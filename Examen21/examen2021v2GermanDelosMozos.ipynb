{
  "nbformat": 4,
  "nbformat_minor": 0,
  "metadata": {
    "kernelspec": {
      "display_name": "Python 3",
      "language": "python",
      "name": "python3"
    },
    "language_info": {
      "codemirror_mode": {
        "name": "ipython",
        "version": 3
      },
      "file_extension": ".py",
      "mimetype": "text/x-python",
      "name": "python",
      "nbconvert_exporter": "python",
      "pygments_lexer": "ipython3",
      "version": "3.7.4"
    },
    "toc": {
      "base_numbering": 1,
      "nav_menu": {},
      "number_sections": true,
      "sideBar": true,
      "skip_h1_title": false,
      "title_cell": "Table of Contents",
      "title_sidebar": "Contents",
      "toc_cell": false,
      "toc_position": {},
      "toc_section_display": true,
      "toc_window_display": true
    },
    "colab": {
      "name": "examen2021v2.ipynb",
      "provenance": [],
      "collapsed_sections": [],
      "toc_visible": true
    }
  },
  "cells": [
    {
      "cell_type": "markdown",
      "metadata": {
        "id": "FdqZSjZTGpkl"
      },
      "source": [
        "## Germán de los Mozos Romero\r\n",
        "01-02-2021"
      ]
    },
    {
      "cell_type": "markdown",
      "metadata": {
        "id": "0LI5ng14Eq9_"
      },
      "source": [
        "# TAREA FINAL: Datos de vivienda\n",
        "\n",
        "<p> El negocio inmobiliario es uno de los motores de la economía de España, el carácter turístico de nuesta península hace que sean muchos los inversores extranjeros que se decidan por buscar una inversión de bajo riesgos en nuestras ciudades costeras o grandes urbes. \n",
        "Muchas de estas inversiones se hacen sobre grandes bolsas de inmuebles que deben ser analizados previamente para comprobar la rentabilidad del porfolio </p>\n",
        "\n",
        "<!-- <p> En este caso vamos a trabajar con una tabla que contienen información de distintos inmuebles repartidos por una zona específica, sus carácterísticas y su precio </p>  -->"
      ]
    },
    {
      "cell_type": "markdown",
      "metadata": {
        "id": "i6vArAm6Eq-D"
      },
      "source": [
        "Todas las cuestiones se deben realizar sobre el conjunto de casos que representen viviendas ubicadas en zonas residenciales **(alta, media y baja densidad)**"
      ]
    },
    {
      "cell_type": "markdown",
      "metadata": {
        "id": "trkc9V17Eq-E"
      },
      "source": [
        "**MUY IMPORTANTE:** En las otras prácticas he detectado colaboraciones involucrando varias personas y he sido flexible aunque a algunos os lo he mencionado en las correcciones, porque al final el trabajo de analista de datos es un trabajo colaborativo. Sin embargo, este trabajo es individual, así que cuidado con las colaboraciones."
      ]
    },
    {
      "cell_type": "markdown",
      "metadata": {
        "id": "5btPf4CiEq-E"
      },
      "source": [
        "Las variables de las que se compone el dataset son:"
      ]
    },
    {
      "cell_type": "markdown",
      "metadata": {
        "id": "QEm7i3phEq-F"
      },
      "source": [
        "|NOMBRE VARIABLE|DESCRIPTOR|VALORES|\n",
        "| --- | --- | --- |\n",
        "|Order|Variable de identificación|1 a 2930|\n",
        "|MS Zoning|Zona de ubicación de la vivienda|\"A rural, C comercial, FV residencial flotante, I industrial, RH residencial alta densidad, RL residencial baja densidad, RM residencial media densidad\"|\n",
        "|Lot Frontage|Longitud de la fachada en pies||\n",
        "|Lot Area|Superficie de la vivienda en pies cuadrados||\n",
        "|Land Contour|Contorno del terreno circundante|\"Lvl llano, Bnk Tipo bancal, HLS Ladera, Low Depresión\"|\n",
        "|Land Slope|Tipo de pendiente de la vivienda|\" Gtl pendiente suave, Mod pendiente moderada, Sev fuerte pendiente\"|\n",
        "|Overall Qual|Grado de calidad de materiales y acabado de la vivienda|De 1 (Muy pobre) a 10 (Excelente)|\n",
        "|Year Built|Año de construccion de la vivienda||\n",
        "|Year Remod/Add|Año de última reforma de la vivienda||\n",
        "|Mas Vnr Type|Tipo de revestimiento exterior|\" BrkCmn Ladrillo normal, BrkFace Ladrillo visto, CBlock Bloque de cemento, None Ninguna, Stone Piedra \"|\n",
        "|Exter Qual|Calidad de revestimiento exterior|\"Ex Excelente,Gd Bueno,TA Media,Fa Justo\"|\n",
        "|Bsmt Cond|Estado general del sótano|\"Ex Excelente, Gd Bueno, TA Media, Fa Justo, Po Pobre,Ss sin sótano\"|\n",
        "|Total Bsmt SF|Superficie del sótano en pies cuadrados|\n",
        "|Heating QC|Calidad de la calefacción|\"Ex Excelente,Gd Bueno,TA Media,Fa Justo,Po Pobre\"|\n",
        "|Central Air|Aire acondicionado centralizado|\"N No Y Sí\"|\n",
        "|Full Bath|Número de baños completo en planta||\n",
        "|Half Bath|Número de aseos en planta||\n",
        "|Bedroom AbvGr|Número de dormitorios en planta||\n",
        "|Kitchen AbvGr|Número de cocinas en planta||\n",
        "|Kitchen Qual|Calidad de cocinas|\"Ex Excelente,Gd Bueno,TA Media,Fa Justo,Po Pobre\"|\n",
        "|TotRms AbvGrd|Número total de habitaciones excluidos los cuartos de baño||\n",
        "|Garage Cars|Número de plazas de garaje||\n",
        "|Garage Area|Superficie del garaje|||\n",
        "|Garage Cond|Estado del garaje|\"Ex Excelente,Gd Bueno,TA Media,Fa Justo,Po Pobre,Sg sin garaje\"|\n",
        "|Pool Area|Superficie de la piscina en pies cuadrados|\n",
        "|Pool QC|Calidad de la piscina|\"Ex Excelente,Gd Bueno,TA Media,Fa Justo,Sp no hay piscina\"|\n",
        "|Mo Sold|mes de venta||\n",
        "|Yr Sold|año de venta||\n",
        "|SalePrice|precio de venta en dólares||"
      ]
    },
    {
      "cell_type": "markdown",
      "metadata": {
        "id": "Or0M8mMFEq-F"
      },
      "source": [
        "Recomiendo al leer los datos, eliminar espacios de los nombres de las columnas, realiza un pequeño análisis inicial de los mismos. No olvides fijarte en los tipos de variables, que variables pueden tener tipos confundidos y corrige los. Sobre todo, trabaja con las fechas."
      ]
    },
    {
      "cell_type": "markdown",
      "metadata": {
        "id": "DhzeIKklEq-G"
      },
      "source": [
        "**NOTA:** Las tareas complementarias sirven para subir nota. El resto de preguntas valen igual y suman 10 puntos."
      ]
    },
    {
      "cell_type": "markdown",
      "metadata": {
        "id": "sB2iYE4IEq-G"
      },
      "source": [
        "## Inicializar y cargar el contexto spark"
      ]
    },
    {
      "cell_type": "markdown",
      "metadata": {
        "id": "IKR6vMKU4EgF"
      },
      "source": [
        "Primero importamos las librerias y funciones necesarias."
      ]
    },
    {
      "cell_type": "code",
      "metadata": {
        "id": "Pb7ljTmD5zvR"
      },
      "source": [
        "!apt-get install openjdk-8-jdk-headless -qq > /dev/null\n",
        "!wget -q https://www-us.apache.org/dist/spark/spark-2.4.7/spark-2.4.7-bin-hadoop2.7.tgz\n",
        "!tar xf spark-2.4.7-bin-hadoop2.7.tgz #d\n",
        "!pip install -q findspark \n",
        "\n",
        "import os\n",
        "os.environ[\"JAVA_HOME\"] = \"/usr/lib/jvm/java-8-openjdk-amd64\" \n",
        "os.environ[\"SPARK_HOME\"] = \"/content/spark-2.4.7-bin-hadoop2.7\"\n",
        "\n",
        "import findspark \n",
        "findspark.init()\n",
        "# Creamos el contexto spark\n",
        "from pyspark import SparkContext\n",
        "sc = SparkContext.getOrCreate()\n",
        "\n",
        "    # Creamos la sesión de spark\n",
        "from pyspark.sql import SparkSession\n",
        "spark = SparkSession.builder.master(\"local[*]\").getOrCreate()\n",
        "\n",
        "    # Importamos las sesiones\n",
        "from pyspark.sql.functions import col, avg, desc, sum\n",
        "from pyspark.sql import SQLContext\n",
        "from pyspark.sql import Row\n"
      ],
      "execution_count": 1,
      "outputs": []
    },
    {
      "cell_type": "code",
      "metadata": {
        "id": "IejlrWsQr5yN"
      },
      "source": [
        "sqlContext = SQLContext(sc)"
      ],
      "execution_count": 2,
      "outputs": []
    },
    {
      "cell_type": "markdown",
      "metadata": {
        "id": "F9uCw6BO4aOt"
      },
      "source": [
        "## Carga de datos\r\n"
      ]
    },
    {
      "cell_type": "code",
      "metadata": {
        "colab": {
          "base_uri": "https://localhost:8080/"
        },
        "id": "lsn1YACMsIF4",
        "outputId": "b8d78a27-db54-4d25-849b-0a9fc1d1e531"
      },
      "source": [
        "raw_datos = sc.textFile(\"BDpracticafinalCSV.csv\")\r\n",
        "raw_datos.take(10)"
      ],
      "execution_count": 3,
      "outputs": [
        {
          "output_type": "execute_result",
          "data": {
            "text/plain": [
              "['Order;MS Zoning;Lot Frontage;Lot Area;Land Contour;Land Slope;Overall Qual;Year Built;Year Remod/Add;Mas Vnr Type;Exter Qual;Bsmt Cond;Total Bsmt SF;Heating QC;Central Air;Full Bath;Half Bath;Bedroom AbvGr;Kitchen AbvGr;Kitchen Qual;TotRms AbvGrd;Garage Cars;Garage Area;Garage Cond;Pool Area;Pool QC;Mo Sold;Yr Sold;SalePrice',\n",
              " '1;RL;141;31770;Lvl;Gtl;6;1960;1960;Stone;TA;Gd;1080;Fa;Y;1;0;3;1;TA;7;2;528;TA;0;Sp;5;2010;215000',\n",
              " '2;RH;80;11622;Lvl;Gtl;5;1961;1961;None;TA;TA;882;TA;Y;1;0;2;1;TA;5;1;730;TA;0;Sp;6;2010;105000',\n",
              " '3;RL;81;14267;Lvl;Gtl;6;1958;1958;BrkFace;TA;TA;1329;TA;Y;1;1;3;1;Gd;6;1;312;TA;0;Sp;6;2010;172000',\n",
              " '4;RL;93;11160;Lvl;Gtl;7;1968;1968;None;Gd;TA;2110;Ex;Y;2;1;3;1;Ex;8;2;522;TA;0;Sp;4;2010;244000',\n",
              " '5;RL;74;13830;Lvl;Gtl;5;1997;1998;None;TA;TA;928;Gd;Y;2;1;3;1;TA;6;2;482;TA;0;Sp;3;2010;189900',\n",
              " '6;RL;78;9978;Lvl;Gtl;6;1998;1998;BrkFace;TA;TA;926;Ex;Y;2;1;3;1;Gd;7;2;470;TA;0;Sp;6;2010;195500',\n",
              " '7;RL;41;4920;Lvl;Gtl;8;2001;2001;None;Gd;TA;1338;Ex;Y;2;0;2;1;Gd;6;2;582;TA;0;Sp;4;2010;213500',\n",
              " '8;RL;43;5005;HLS;Gtl;8;1992;1992;None;Gd;TA;1280;Ex;Y;2;0;2;1;Gd;5;2;506;TA;0;Sp;1;2010;191500',\n",
              " '9;RL;39;5389;Lvl;Gtl;8;1995;1996;None;Gd;TA;1595;Ex;Y;2;0;2;1;Gd;5;2;608;TA;0;Sp;3;2010;236500']"
            ]
          },
          "metadata": {
            "tags": []
          },
          "execution_count": 3
        }
      ]
    },
    {
      "cell_type": "markdown",
      "metadata": {
        "id": "4GAPIgPRO_yu"
      },
      "source": [
        "Los datos estan separados por punto y coma. Los títulos de cada columna contienen espacios y estos nos generaran problemas, es por ello que vamos a eliminarlos, modificando el nombre de los titulos manualmente, en caso de que las variables fuesen muchas podríamos utilizar alguna función"
      ]
    },
    {
      "cell_type": "code",
      "metadata": {
        "id": "-8TRkCUgvFSN"
      },
      "source": [
        " raw_datos= raw_datos.map(lambda x:x.split(\";\"))\r\n",
        "header = raw_datos.first()\r\n",
        "raw_datos = raw_datos.filter(lambda x : x != header)"
      ],
      "execution_count": 4,
      "outputs": []
    },
    {
      "cell_type": "code",
      "metadata": {
        "id": "9RZ740m9vJfC"
      },
      "source": [
        "datos = raw_datos.map(lambda p: Row(\r\n",
        "    Order = p[0],\r\n",
        "    MS_Zoning = p[1],\r\n",
        "    Lot_Frontage = p[2],\r\n",
        "    Lot_Area = p[3],\r\n",
        "    Land_Contour = p[4],\r\n",
        "    Land_Slope = p[5],\r\n",
        "    Overall_Qual = p[6],\r\n",
        "    Year_Built = p[7],\r\n",
        "    Year_R_A = p[8],\r\n",
        "    Mas_Vnr_Type = p[9],\r\n",
        "    Exter_Qual = p[10],\r\n",
        "    Bsmt_Cond = p[11],\r\n",
        "    Total_Bsmt_SF = p[12],\r\n",
        "    Heating_QC = p[13],\r\n",
        "    Central_Air = p[14],\r\n",
        "    Full_Bath = p[15],\r\n",
        "    Half_Bath = p[16],\r\n",
        "    Bedroom_AbvGr = p[17],\r\n",
        "    Kitchen_AbvGr = p[18],\r\n",
        "    Kitchen_Qual = p[19],\r\n",
        "    TotRms_AbvGrd = p[20],\r\n",
        "    Garage_Cars = p[21],\r\n",
        "    Garage_Area = p[22],\r\n",
        "    Garage_Cond = p[23],\r\n",
        "    Pool_Area = p[24],\r\n",
        "    Pool_QC = p[25],\r\n",
        "    Mo_Sold = p[26],\r\n",
        "    Yr_Sold = p[27],\r\n",
        "    Sale_Price = p[28]\r\n",
        "    )\r\n",
        ")"
      ],
      "execution_count": 5,
      "outputs": []
    },
    {
      "cell_type": "markdown",
      "metadata": {
        "id": "xYh8NW9Ad8kk"
      },
      "source": [
        "Pasamos a dataframe para podeer operar con SQL, es decir usamos pyspark.sql. Considero que esta técnica es más sencilla y familiar para mi e igual de efectiva."
      ]
    },
    {
      "cell_type": "code",
      "metadata": {
        "id": "u7hCWebYG9AL"
      },
      "source": [
        "inmobiliaria = sqlContext.createDataFrame(datos)\n",
        "inmobiliaria.registerTempTable(\"inmobiliaria\")"
      ],
      "execution_count": 6,
      "outputs": []
    },
    {
      "cell_type": "code",
      "metadata": {
        "colab": {
          "base_uri": "https://localhost:8080/"
        },
        "id": "s8hmhacc7Cwx",
        "outputId": "6865161d-2aac-4380-be37-ca7d7705b428"
      },
      "source": [
        "sqlContext.sql(\"\"\"\n",
        "    SELECT * \n",
        "    FROM inmobiliaria limit 15\n",
        "\"\"\").show()"
      ],
      "execution_count": 7,
      "outputs": [
        {
          "output_type": "stream",
          "text": [
            "+-------------+---------+-----------+----------+---------+-----------+-----------+-----------+---------+----------+-------------+------------+------------+----------+--------+------------+---------+------------+-------+-----+------------+---------+-------+----------+-------------+-------------+----------+--------+-------+\n",
            "|Bedroom_AbvGr|Bsmt_Cond|Central_Air|Exter_Qual|Full_Bath|Garage_Area|Garage_Cars|Garage_Cond|Half_Bath|Heating_QC|Kitchen_AbvGr|Kitchen_Qual|Land_Contour|Land_Slope|Lot_Area|Lot_Frontage|MS_Zoning|Mas_Vnr_Type|Mo_Sold|Order|Overall_Qual|Pool_Area|Pool_QC|Sale_Price|TotRms_AbvGrd|Total_Bsmt_SF|Year_Built|Year_R_A|Yr_Sold|\n",
            "+-------------+---------+-----------+----------+---------+-----------+-----------+-----------+---------+----------+-------------+------------+------------+----------+--------+------------+---------+------------+-------+-----+------------+---------+-------+----------+-------------+-------------+----------+--------+-------+\n",
            "|            3|       Gd|          Y|        TA|        1|        528|          2|         TA|        0|        Fa|            1|          TA|         Lvl|       Gtl|   31770|         141|       RL|       Stone|      5|    1|           6|        0|     Sp|    215000|            7|         1080|      1960|    1960|   2010|\n",
            "|            2|       TA|          Y|        TA|        1|        730|          1|         TA|        0|        TA|            1|          TA|         Lvl|       Gtl|   11622|          80|       RH|        None|      6|    2|           5|        0|     Sp|    105000|            5|          882|      1961|    1961|   2010|\n",
            "|            3|       TA|          Y|        TA|        1|        312|          1|         TA|        1|        TA|            1|          Gd|         Lvl|       Gtl|   14267|          81|       RL|     BrkFace|      6|    3|           6|        0|     Sp|    172000|            6|         1329|      1958|    1958|   2010|\n",
            "|            3|       TA|          Y|        Gd|        2|        522|          2|         TA|        1|        Ex|            1|          Ex|         Lvl|       Gtl|   11160|          93|       RL|        None|      4|    4|           7|        0|     Sp|    244000|            8|         2110|      1968|    1968|   2010|\n",
            "|            3|       TA|          Y|        TA|        2|        482|          2|         TA|        1|        Gd|            1|          TA|         Lvl|       Gtl|   13830|          74|       RL|        None|      3|    5|           5|        0|     Sp|    189900|            6|          928|      1997|    1998|   2010|\n",
            "|            3|       TA|          Y|        TA|        2|        470|          2|         TA|        1|        Ex|            1|          Gd|         Lvl|       Gtl|    9978|          78|       RL|     BrkFace|      6|    6|           6|        0|     Sp|    195500|            7|          926|      1998|    1998|   2010|\n",
            "|            2|       TA|          Y|        Gd|        2|        582|          2|         TA|        0|        Ex|            1|          Gd|         Lvl|       Gtl|    4920|          41|       RL|        None|      4|    7|           8|        0|     Sp|    213500|            6|         1338|      2001|    2001|   2010|\n",
            "|            2|       TA|          Y|        Gd|        2|        506|          2|         TA|        0|        Ex|            1|          Gd|         HLS|       Gtl|    5005|          43|       RL|        None|      1|    8|           8|        0|     Sp|    191500|            5|         1280|      1992|    1992|   2010|\n",
            "|            2|       TA|          Y|        Gd|        2|        608|          2|         TA|        0|        Ex|            1|          Gd|         Lvl|       Gtl|    5389|          39|       RL|        None|      3|    9|           8|        0|     Sp|    236500|            5|         1595|      1995|    1996|   2010|\n",
            "|            3|       TA|          Y|        TA|        2|        442|          2|         TA|        1|        Gd|            1|          Gd|         Lvl|       Gtl|    7500|          60|       RL|        None|      6|   10|           7|        0|     Sp|    189000|            7|          994|      1999|    1999|   2010|\n",
            "|            3|       TA|          Y|        TA|        2|        440|          2|         TA|        1|        Gd|            1|          TA|         Lvl|       Gtl|   10000|          75|       RL|        None|      4|   11|           6|        0|     Sp|    175900|            7|          763|      1993|    1994|   2010|\n",
            "|            3|       TA|          Y|        TA|        2|        420|          2|         TA|        0|        Ex|            1|          TA|         Lvl|       Gtl|    7980|            |       RL|        None|      3|   12|           6|        0|     Sp|    185000|            6|         1168|      1992|    2007|   2010|\n",
            "|            3|       TA|          Y|        TA|        2|        393|          2|         TA|        1|        Gd|            1|          TA|         Lvl|       Gtl|    8402|          63|       RL|        None|      5|   13|           6|        0|     Sp|    180400|            7|          789|      1998|    1998|   2010|\n",
            "|            2|       TA|          Y|        TA|        1|        506|          2|         TA|        1|        Gd|            1|          Gd|         Lvl|       Gtl|   10176|          85|       RL|        None|      2|   14|           7|        0|     Sp|    171500|            5|         1300|      1990|    1990|   2010|\n",
            "|            1|       TA|          Y|        Gd|        1|        528|          2|         TA|        1|        TA|            1|          Gd|         Lvl|       Gtl|    6820|            |       RL|        None|      6|   15|           8|        0|     Sp|    212000|            4|         1488|      1985|    1985|   2010|\n",
            "+-------------+---------+-----------+----------+---------+-----------+-----------+-----------+---------+----------+-------------+------------+------------+----------+--------+------------+---------+------------+-------+-----+------------+---------+-------+----------+-------------+-------------+----------+--------+-------+\n",
            "\n"
          ],
          "name": "stdout"
        }
      ]
    },
    {
      "cell_type": "code",
      "metadata": {
        "colab": {
          "base_uri": "https://localhost:8080/"
        },
        "id": "LG7CcO6iCerD",
        "outputId": "a198cc94-fd1b-4b2f-8d04-bc009ee88c33"
      },
      "source": [
        " datos_filtro = spark.sql(\"\"\"\r\n",
        "SELECT * \r\n",
        "from inmobiliaria\r\n",
        "WHERE MS_Zoning == 'RL' or MS_Zoning == 'RM' or MS_Zoning == 'RH'\r\n",
        "\"\"\").show()"
      ],
      "execution_count": 10,
      "outputs": [
        {
          "output_type": "stream",
          "text": [
            "+-------------+---------+-----------+----------+---------+-----------+-----------+-----------+---------+----------+-------------+------------+------------+----------+--------+------------+---------+------------+-------+-----+------------+---------+-------+----------+-------------+-------------+----------+--------+-------+\n",
            "|Bedroom_AbvGr|Bsmt_Cond|Central_Air|Exter_Qual|Full_Bath|Garage_Area|Garage_Cars|Garage_Cond|Half_Bath|Heating_QC|Kitchen_AbvGr|Kitchen_Qual|Land_Contour|Land_Slope|Lot_Area|Lot_Frontage|MS_Zoning|Mas_Vnr_Type|Mo_Sold|Order|Overall_Qual|Pool_Area|Pool_QC|Sale_Price|TotRms_AbvGrd|Total_Bsmt_SF|Year_Built|Year_R_A|Yr_Sold|\n",
            "+-------------+---------+-----------+----------+---------+-----------+-----------+-----------+---------+----------+-------------+------------+------------+----------+--------+------------+---------+------------+-------+-----+------------+---------+-------+----------+-------------+-------------+----------+--------+-------+\n",
            "|            3|       Gd|          Y|        TA|        1|        528|          2|         TA|        0|        Fa|            1|          TA|         Lvl|       Gtl|   31770|         141|       RL|       Stone|      5|    1|           6|        0|     Sp|    215000|            7|         1080|      1960|    1960|   2010|\n",
            "|            2|       TA|          Y|        TA|        1|        730|          1|         TA|        0|        TA|            1|          TA|         Lvl|       Gtl|   11622|          80|       RH|        None|      6|    2|           5|        0|     Sp|    105000|            5|          882|      1961|    1961|   2010|\n",
            "|            3|       TA|          Y|        TA|        1|        312|          1|         TA|        1|        TA|            1|          Gd|         Lvl|       Gtl|   14267|          81|       RL|     BrkFace|      6|    3|           6|        0|     Sp|    172000|            6|         1329|      1958|    1958|   2010|\n",
            "|            3|       TA|          Y|        Gd|        2|        522|          2|         TA|        1|        Ex|            1|          Ex|         Lvl|       Gtl|   11160|          93|       RL|        None|      4|    4|           7|        0|     Sp|    244000|            8|         2110|      1968|    1968|   2010|\n",
            "|            3|       TA|          Y|        TA|        2|        482|          2|         TA|        1|        Gd|            1|          TA|         Lvl|       Gtl|   13830|          74|       RL|        None|      3|    5|           5|        0|     Sp|    189900|            6|          928|      1997|    1998|   2010|\n",
            "|            3|       TA|          Y|        TA|        2|        470|          2|         TA|        1|        Ex|            1|          Gd|         Lvl|       Gtl|    9978|          78|       RL|     BrkFace|      6|    6|           6|        0|     Sp|    195500|            7|          926|      1998|    1998|   2010|\n",
            "|            2|       TA|          Y|        Gd|        2|        582|          2|         TA|        0|        Ex|            1|          Gd|         Lvl|       Gtl|    4920|          41|       RL|        None|      4|    7|           8|        0|     Sp|    213500|            6|         1338|      2001|    2001|   2010|\n",
            "|            2|       TA|          Y|        Gd|        2|        506|          2|         TA|        0|        Ex|            1|          Gd|         HLS|       Gtl|    5005|          43|       RL|        None|      1|    8|           8|        0|     Sp|    191500|            5|         1280|      1992|    1992|   2010|\n",
            "|            2|       TA|          Y|        Gd|        2|        608|          2|         TA|        0|        Ex|            1|          Gd|         Lvl|       Gtl|    5389|          39|       RL|        None|      3|    9|           8|        0|     Sp|    236500|            5|         1595|      1995|    1996|   2010|\n",
            "|            3|       TA|          Y|        TA|        2|        442|          2|         TA|        1|        Gd|            1|          Gd|         Lvl|       Gtl|    7500|          60|       RL|        None|      6|   10|           7|        0|     Sp|    189000|            7|          994|      1999|    1999|   2010|\n",
            "|            3|       TA|          Y|        TA|        2|        440|          2|         TA|        1|        Gd|            1|          TA|         Lvl|       Gtl|   10000|          75|       RL|        None|      4|   11|           6|        0|     Sp|    175900|            7|          763|      1993|    1994|   2010|\n",
            "|            3|       TA|          Y|        TA|        2|        420|          2|         TA|        0|        Ex|            1|          TA|         Lvl|       Gtl|    7980|            |       RL|        None|      3|   12|           6|        0|     Sp|    185000|            6|         1168|      1992|    2007|   2010|\n",
            "|            3|       TA|          Y|        TA|        2|        393|          2|         TA|        1|        Gd|            1|          TA|         Lvl|       Gtl|    8402|          63|       RL|        None|      5|   13|           6|        0|     Sp|    180400|            7|          789|      1998|    1998|   2010|\n",
            "|            2|       TA|          Y|        TA|        1|        506|          2|         TA|        1|        Gd|            1|          Gd|         Lvl|       Gtl|   10176|          85|       RL|        None|      2|   14|           7|        0|     Sp|    171500|            5|         1300|      1990|    1990|   2010|\n",
            "|            1|       TA|          Y|        Gd|        1|        528|          2|         TA|        1|        TA|            1|          Gd|         Lvl|       Gtl|    6820|            |       RL|        None|      6|   15|           8|        0|     Sp|    212000|            4|         1488|      1985|    1985|   2010|\n",
            "|            4|       TA|          Y|        Ex|        3|        841|          3|         TA|        1|        Ex|            1|          Ex|         HLS|       Mod|   53504|          47|       RL|     BrkFace|      6|   16|           8|        0|     Sp|    538000|           12|         1650|      2003|    2003|   2010|\n",
            "|            4|       TA|          Y|        Gd|        2|        492|          2|         TA|        0|        Gd|            1|          TA|         Bnk|       Mod|   12134|         152|       RL|        None|      6|   17|           8|        0|     Sp|    164000|            8|          559|      1988|    2005|   2010|\n",
            "|            1|       TA|          Y|        Gd|        1|        834|          3|         TA|        1|        Ex|            1|          Ex|         Lvl|       Gtl|   11394|          88|       RL|       Stone|      6|   18|           9|        0|     Sp|    394432|            8|         1856|      2010|    2010|   2010|\n",
            "|            2|       TA|          Y|        TA|        1|        400|          2|         TA|        0|        Ex|            1|          TA|         Lvl|       Gtl|   19138|         140|       RL|        None|      6|   19|           4|        0|     Sp|    141000|            4|          864|      1951|    1951|   2010|\n",
            "|            3|       TA|          Y|        TA|        2|        500|          2|         TA|        0|        TA|            1|          TA|         Lvl|       Gtl|   13175|          85|       RL|       Stone|      2|   20|           6|        0|     Sp|    210000|            7|         1542|      1978|    1988|   2010|\n",
            "+-------------+---------+-----------+----------+---------+-----------+-----------+-----------+---------+----------+-------------+------------+------------+----------+--------+------------+---------+------------+-------+-----+------------+---------+-------+----------+-------------+-------------+----------+--------+-------+\n",
            "only showing top 20 rows\n",
            "\n"
          ],
          "name": "stdout"
        }
      ]
    },
    {
      "cell_type": "markdown",
      "metadata": {
        "id": "PR_icb58Eq-G"
      },
      "source": [
        "## Cuántas viviendas distintas encontramos en el dataset? ¿Se repite alguna? Tiene sentido que haya duplicadas? ¿Qué podemos hacer con las duplicadas?"
      ]
    },
    {
      "cell_type": "markdown",
      "metadata": {
        "id": "EOsQujX1TtMf"
      },
      "source": [
        "Representamos los posibles duplicados"
      ]
    },
    {
      "cell_type": "markdown",
      "metadata": {
        "id": "Yiir0vWRULYj"
      },
      "source": [
        "Para elegir y seleccionar el número de viviendas distintas de cada dataset utilizaremos la función select() para seleccionar la columna que queremos, en este caso es \"Order\" además como queremos que todos los valores sean distintos usaremos la función distinct(). Usaremos la función count para contar cuantos registros son.\r\n",
        "\r\n",
        "Vemos como existirían hasta seis identificadores `Order` que se repiten, además lo comprobamos a continuación a través de la diferencia entre `count` que coge todos los valores y `distinct` unido a la instrucción anterior que solo seleccionar los distintos, siendo seis la diferencia y por ello el número de identificadores repetidos, si seleccionasemos todas las zonas, es decir si no aplicasemos la instrucción where.\r\n",
        "\r\n",
        "\r\n"
      ]
    },
    {
      "cell_type": "code",
      "metadata": {
        "colab": {
          "base_uri": "https://localhost:8080/"
        },
        "id": "VYlBoQRNFH8O",
        "outputId": "c9d50b7d-ea41-4e72-c878-64966b5a95f0"
      },
      "source": [
        "inmobiliaria.count()"
      ],
      "execution_count": 17,
      "outputs": [
        {
          "output_type": "execute_result",
          "data": {
            "text/plain": [
              "2936"
            ]
          },
          "metadata": {
            "tags": []
          },
          "execution_count": 17
        }
      ]
    },
    {
      "cell_type": "code",
      "metadata": {
        "colab": {
          "base_uri": "https://localhost:8080/"
        },
        "id": "MZNLjd0sKnB5",
        "outputId": "fa099165-9217-4f2f-faf0-aa772cdaf8a4"
      },
      "source": [
        "x = inmobiliaria.select(\"Order\").distinct().count()\r\n",
        "x"
      ],
      "execution_count": 14,
      "outputs": [
        {
          "output_type": "execute_result",
          "data": {
            "text/plain": [
              "2930"
            ]
          },
          "metadata": {
            "tags": []
          },
          "execution_count": 14
        }
      ]
    },
    {
      "cell_type": "code",
      "metadata": {
        "id": "92p2Bs-cvRgY",
        "colab": {
          "base_uri": "https://localhost:8080/"
        },
        "outputId": "88e6a43b-38df-4e6c-87c1-12757e9f0736"
      },
      "source": [
        "sqlContext.sql(\"\"\"\n",
        "select Order, count(*) as num_repeticiones \n",
        "from inmobiliaria\n",
        "WHERE MS_Zoning == 'RL' or MS_Zoning == 'RM' or MS_Zoning == 'RH'\n",
        "group by order\n",
        "having count(*)>1\n",
        "\"\"\").show()\n",
        "print(\"Hay un total de {} viviendas distintas en este dataset.\".format(x))"
      ],
      "execution_count": 18,
      "outputs": [
        {
          "output_type": "stream",
          "text": [
            "+-----+----------------+\n",
            "|Order|num_repeticiones|\n",
            "+-----+----------------+\n",
            "| 2930|               2|\n",
            "| 2929|               2|\n",
            "+-----+----------------+\n",
            "\n",
            "Hay un total de 2930 viviendas distintas en este dataset.\n"
          ],
          "name": "stdout"
        }
      ]
    },
    {
      "cell_type": "markdown",
      "metadata": {
        "id": "YqpAgKsoJWpq"
      },
      "source": [
        "El número de duplicados es pequeño, y no tendrá mucha trascendencia el hecho de eliminar estas filas o mantenerlas.\r\n",
        "Sabemos que \"Order\" es una variable de identificación, pero no sabemos realmente que es lo que identifica, aunque probablemente sea cada vivienda, lo que nos haría pensar que hay 2 viviendas que estan introducidas en la base de dados dos veces. Si fuesen muchos los duplicados deberíamos eliminar los mismos."
      ]
    },
    {
      "cell_type": "markdown",
      "metadata": {
        "id": "osiaXaWyEq-H"
      },
      "source": [
        "## ¿Podrías decirme el total de inmuebles y el precio medio (Sale Price) de cada zona (MS Zoning)?"
      ]
    },
    {
      "cell_type": "markdown",
      "metadata": {
        "id": "-hdnn-PaZvR1"
      },
      "source": [
        "Agrupo los datos por cada una de las tres zonas y calculo, para cada una, tanto el total de inmuebles en venta como el precio medio del total de estos.\r\n",
        "\r\n",
        "\r\n",
        "\r\n"
      ]
    },
    {
      "cell_type": "code",
      "metadata": {
        "colab": {
          "base_uri": "https://localhost:8080/"
        },
        "id": "YEvbVoobUP9Z",
        "outputId": "489f5aca-7a15-471e-b17b-9c129250a2e2"
      },
      "source": [
        "sqlContext.sql(\"\"\"\n",
        "select MS_Zoning as Zona, count(Order) as Inmuebles, avg(Sale_Price) as PrecioMedio\n",
        "from inmobiliaria\n",
        "WHERE MS_Zoning == 'RL' or MS_Zoning == 'RM' or MS_Zoning == 'RH'\n",
        "group by MS_Zoning\n",
        "\"\"\").show()"
      ],
      "execution_count": 19,
      "outputs": [
        {
          "output_type": "stream",
          "text": [
            "+----+---------+------------------+\n",
            "|Zona|Inmuebles|       PrecioMedio|\n",
            "+----+---------+------------------+\n",
            "|  RH|       27|136419.77777777778|\n",
            "|  RL|     2271|191131.80581241744|\n",
            "|  RM|      462|126781.39393939394|\n",
            "+----+---------+------------------+\n",
            "\n"
          ],
          "name": "stdout"
        }
      ]
    },
    {
      "cell_type": "markdown",
      "metadata": {
        "id": "XW6vHLC3Eq-H"
      },
      "source": [
        "## Media de Total Bsmt SF por cada década de construcción calculada a partir de Year Built. \n",
        "## ¿Cuál es la decada de construcción con viviendas mejor acondicionadas para el frío (Heating QC)?"
      ]
    },
    {
      "cell_type": "markdown",
      "metadata": {
        "id": "jkEh2Tfca8ca"
      },
      "source": [
        "Vemos la construcción más antigua y más moderna, y asi poder calcular el rango de décadas que debemos seleccionar."
      ]
    },
    {
      "cell_type": "code",
      "metadata": {
        "colab": {
          "base_uri": "https://localhost:8080/"
        },
        "id": "mOL3xH8-2E7Q",
        "outputId": "bece413b-1c56-4f29-925d-1464811f1fa8"
      },
      "source": [
        "sqlContext.sql(\"\"\"\r\n",
        "select min(Year_Built) as Antigua, max(Year_Built) as ConstruccionModerna\r\n",
        "from inmobiliaria\r\n",
        "WHERE MS_Zoning == 'RL' or MS_Zoning == 'RM' or MS_Zoning == 'RH'\r\n",
        "\"\"\").show(2)"
      ],
      "execution_count": 20,
      "outputs": [
        {
          "output_type": "stream",
          "text": [
            "+-------+-------------------+\n",
            "|Antigua|ConstruccionModerna|\n",
            "+-------+-------------------+\n",
            "|   1872|               2010|\n",
            "+-------+-------------------+\n",
            "\n"
          ],
          "name": "stdout"
        }
      ]
    },
    {
      "cell_type": "markdown",
      "metadata": {
        "id": "XWkaGhnyclVf"
      },
      "source": [
        "Diferenciamos por decadas a través utilizando tantos \"when\" como décadas existen, calculando la media \"avg\" para cada una de ellas."
      ]
    },
    {
      "cell_type": "code",
      "metadata": {
        "colab": {
          "base_uri": "https://localhost:8080/"
        },
        "id": "dkO9SHQs7vKA",
        "outputId": "6d3cd1da-a678-4d82-a5f4-81cf8057f8a7"
      },
      "source": [
        "sqlContext.sql(\"\"\"\r\n",
        "select avg(Total_Bsmt_SF) as Superficie,\r\n",
        "case \r\n",
        "when Year_Built between 1870 and 1879 then '1870s' \r\n",
        "when Year_Built between 1880 and 1889 then '1880s' \r\n",
        "when Year_Built between 1890 and 1899 then '1890s' \r\n",
        "when Year_Built between 1900 and 1909 then '1900s' \r\n",
        "when Year_Built between 1910 and 1919 then '1910s' \r\n",
        "when Year_Built between 1920 and 1929 then '1920s' \r\n",
        "when Year_Built between 1930 and 1939 then '1930s' \r\n",
        "when Year_Built between 1940 and 1949 then '1940s' \r\n",
        "when Year_Built between 1950 and 1959 then '1950s'\r\n",
        "when Year_Built between 1960 and 1969 then '1960s' \r\n",
        "when Year_Built between 1970 and 1979 then '1970s' \r\n",
        "when Year_Built between 1980 and 1989 then '1980s' \r\n",
        "when Year_Built between 1990 and 1999 then '1990s' \r\n",
        "else '2000s' \r\n",
        "end as Decada\r\n",
        "from inmobiliaria\r\n",
        "WHERE MS_Zoning == 'RL' or MS_Zoning == 'RM' or MS_Zoning == 'RH'\r\n",
        "group by Decada\r\n",
        "order by Decada\r\n",
        "\"\"\").show()"
      ],
      "execution_count": 21,
      "outputs": [
        {
          "output_type": "stream",
          "text": [
            "+------------------+------+\n",
            "|        Superficie|Decada|\n",
            "+------------------+------+\n",
            "|             761.0| 1870s|\n",
            "|             836.0| 1880s|\n",
            "| 885.5833333333334| 1890s|\n",
            "| 720.1388888888889| 1900s|\n",
            "| 788.3009708737864| 1910s|\n",
            "| 833.9368421052632| 1920s|\n",
            "| 769.9158878504672| 1930s|\n",
            "| 706.9261744966443| 1940s|\n",
            "| 968.2955223880597| 1950s|\n",
            "| 1082.672268907563| 1960s|\n",
            "|  953.917808219178| 1970s|\n",
            "|            1086.0| 1980s|\n",
            "|1138.1054313099041| 1990s|\n",
            "|1347.7401812688822| 2000s|\n",
            "+------------------+------+\n",
            "\n"
          ],
          "name": "stdout"
        }
      ]
    },
    {
      "cell_type": "markdown",
      "metadata": {
        "id": "WC7BanE2eGQN"
      },
      "source": [
        "Para conocer en que década las viviendas estaban mejor acondicionadas, nos basamos en que la calificación sea de Excelente (Ex), cuando más número de esta calificación tenga más arriba aparecera en la tabla que ordenaremos de forma descendente. Al querer conocer que década tiene más calificaciones como excelentes la tabla solo mostrará el top 5."
      ]
    },
    {
      "cell_type": "code",
      "metadata": {
        "colab": {
          "base_uri": "https://localhost:8080/"
        },
        "id": "hqlWM4vn7x4g",
        "outputId": "17d9a91f-6c7c-4fad-ae55-a8ac77b0f158"
      },
      "source": [
        "sqlContext.sql(\"\"\"\r\n",
        "select count(*) as SumatorioEx,\r\n",
        "case \r\n",
        "when Year_Built between 1870 and 1879 then '1870s' \r\n",
        "when Year_Built between 1880 and 1889 then '1880s' \r\n",
        "when Year_Built between 1890 and 1899 then '1890s' \r\n",
        "when Year_Built between 1900 and 1909 then '1900s' \r\n",
        "when Year_Built between 1910 and 1919 then '1910s' \r\n",
        "when Year_Built between 1920 and 1929 then '1920s' \r\n",
        "when Year_Built between 1930 and 1939 then '1930s' \r\n",
        "when Year_Built between 1940 and 1949 then '1940s' \r\n",
        "when Year_Built between 1950 and 1959 then '1950s'\r\n",
        "when Year_Built between 1960 and 1969 then '1960s' \r\n",
        "when Year_Built between 1970 and 1979 then '1970s' \r\n",
        "when Year_Built between 1980 and 1989 then '1980s' \r\n",
        "when Year_Built between 1990 and 1999 then '1990s' \r\n",
        "else '2000s' \r\n",
        "end as Decada\r\n",
        "from inmobiliaria\r\n",
        "where Heating_QC = 'Ex'\r\n",
        "and MS_Zoning == 'RL' or MS_Zoning == 'RM' or MS_Zoning == 'RH'\r\n",
        "group by Decada\r\n",
        "order by SumatorioEx desc\r\n",
        "\"\"\").show(5)"
      ],
      "execution_count": 22,
      "outputs": [
        {
          "output_type": "stream",
          "text": [
            "+-----------+------+\n",
            "|SumatorioEx|Decada|\n",
            "+-----------+------+\n",
            "|        643| 2000s|\n",
            "|        234| 1990s|\n",
            "|        133| 1920s|\n",
            "|        126| 1970s|\n",
            "|        118| 1950s|\n",
            "+-----------+------+\n",
            "only showing top 5 rows\n",
            "\n"
          ],
          "name": "stdout"
        }
      ]
    },
    {
      "cell_type": "markdown",
      "metadata": {
        "id": "vk6oHdMYe0hD"
      },
      "source": [
        "Claramente las mejores viviendas, tal y como podiamos sospechar son las más recientes, es decir las de la última década, los 2000. Precededida en tiempo y calidad de los 90s."
      ]
    },
    {
      "cell_type": "markdown",
      "metadata": {
        "id": "eCMdr8GnEq-H"
      },
      "source": [
        "## ¿Cuáles son las 10 viviendas que se vendieron por un precio más elevado por metro cuadrado en el año 2009?"
      ]
    },
    {
      "cell_type": "markdown",
      "metadata": {
        "id": "4d3niMIqfLAW"
      },
      "source": [
        "Seleccionamos cada vivienda con su ratio precio/superficie, y lo ordenamos de mayor a menor (descendentemente), seleccionando las 10 primeras."
      ]
    },
    {
      "cell_type": "code",
      "metadata": {
        "id": "kBMLS0-c2FZw"
      },
      "source": [
        "casas_caras2009 = sqlContext.sql(\"\"\"\r\n",
        "select Order as Casa, (Sale_Price/Lot_Area) as PrecioSuperficie\r\n",
        "from inmobiliaria \r\n",
        "where Yr_Sold = '2009'\r\n",
        "and MS_Zoning == 'RL' or MS_Zoning == 'RM' or MS_Zoning == 'RH'\r\n",
        "order by PrecioSuperficie desc\r\n",
        "\"\"\")"
      ],
      "execution_count": 23,
      "outputs": []
    },
    {
      "cell_type": "code",
      "metadata": {
        "colab": {
          "base_uri": "https://localhost:8080/"
        },
        "id": "GEHtVCyG73wJ",
        "outputId": "a6d368d7-f702-4c1f-e2ee-f680ee63c857"
      },
      "source": [
        "casas_caras2009.show(10)"
      ],
      "execution_count": 24,
      "outputs": [
        {
          "output_type": "stream",
          "text": [
            "+----+-----------------+\n",
            "|Casa| PrecioSuperficie|\n",
            "+----+-----------------+\n",
            "| 936|95.38461538461539|\n",
            "| 934|92.06989247311827|\n",
            "|2885|78.08433107756377|\n",
            "|1544|77.43589743589743|\n",
            "|1561|76.62347124642207|\n",
            "| 464|76.27865961199295|\n",
            "| 935|75.06203473945409|\n",
            "|2425|       73.2421875|\n",
            "|1563|71.57730348776678|\n",
            "| 408|71.13095238095238|\n",
            "+----+-----------------+\n",
            "only showing top 10 rows\n",
            "\n"
          ],
          "name": "stdout"
        }
      ]
    },
    {
      "cell_type": "markdown",
      "metadata": {
        "id": "GzR__yJXfijE"
      },
      "source": [
        "Esta tabla muestra que casas son las más caras en base a la superficie de cada una de ellas. Siendo el ratio más alto de precio/superficie de 95.38, correspondiente al identificador de la Casa 936."
      ]
    },
    {
      "cell_type": "markdown",
      "metadata": {
        "id": "b5ZBFR7REq-I"
      },
      "source": [
        "## Media anual por zonas del precio de venta y metros cuadrados."
      ]
    },
    {
      "cell_type": "markdown",
      "metadata": {
        "id": "W2IwkAWIg7mr"
      },
      "source": [
        "Selecciono la media anual tanto de los precios de venta como de la superficie, agrupandolos por zona para cada uno de los años."
      ]
    },
    {
      "cell_type": "markdown",
      "metadata": {
        "id": "jhb6yXfcTYmE"
      },
      "source": [
        "Los valores que aparecen en Lot_Area estan en pies cuadrados, por lo tanto debemos convertirlos a metros cuadrados, sabiendo que un pie cuadrado equivale a 0.093 metros cuadrados."
      ]
    },
    {
      "cell_type": "code",
      "metadata": {
        "colab": {
          "base_uri": "https://localhost:8080/"
        },
        "id": "N1D6_h5E2FzU",
        "outputId": "88e9ca7a-f075-45ab-e923-27748c17e807"
      },
      "source": [
        "sqlContext.sql(\"\"\"\r\n",
        "select Yr_Sold as Year, avg(Sale_Price) AS PrecioMedio, avg(Lot_Area) *0.093   as SuperficieMedia, MS_Zoning as Zona \r\n",
        "from inmobiliaria\r\n",
        "WHERE MS_Zoning == 'RL' or MS_Zoning == 'RM' or MS_Zoning == 'RH'\r\n",
        "group by Zona, Year\r\n",
        "\"\"\").show()"
      ],
      "execution_count": 34,
      "outputs": [
        {
          "output_type": "stream",
          "text": [
            "+----+------------------+------------------+----+\n",
            "|Year|       PrecioMedio|   SuperficieMedia|Zona|\n",
            "+----+------------------+------------------+----+\n",
            "|2007|128947.62105263158| 626.1014526315789|  RM|\n",
            "|2010|  184978.418972332|1012.4152766798419|  RL|\n",
            "|2009|190455.55086372362|1003.2304491362764|  RL|\n",
            "|2008|150333.33333333334| 766.9399999999999|  RH|\n",
            "|2009|          116206.8|          647.8194|  RH|\n",
            "|2007|193399.98014440434|1060.7843555956679|  RL|\n",
            "|2006|193654.14845360824|1043.9037154639175|  RL|\n",
            "|2010|          126280.0| 753.8208000000001|  RH|\n",
            "|2008| 133336.1219512195| 624.3203414634146|  RM|\n",
            "|2006|140316.66666666666|          660.2535|  RH|\n",
            "|2010|119681.70689655172| 586.7161551724138|  RM|\n",
            "|2007|          147250.0|         651.99975|  RH|\n",
            "|2008|189885.58515283844| 1048.747192139738|  RL|\n",
            "|2006|127502.63725490196| 575.6143823529412|  RM|\n",
            "|2009|118759.86904761905|           553.133|  RM|\n",
            "+----+------------------+------------------+----+\n",
            "\n"
          ],
          "name": "stdout"
        }
      ]
    },
    {
      "cell_type": "markdown",
      "metadata": {
        "id": "sV_GyROiEq-I"
      },
      "source": [
        "## ¿Podrías decirme el total de recaudación de las casas de revistimiento (Mas Vnr Type) de piedra con respecto a las de ladrillo? ¿Hay diferencia significativa?"
      ]
    },
    {
      "cell_type": "markdown",
      "metadata": {
        "id": "Zz1Qc8kkhT4i"
      },
      "source": [
        "Recogemos la recaudación total en función del revestimiento. Por una parte, de ladrillo visto y de ladrillo normal, y por otra, de piedra."
      ]
    },
    {
      "cell_type": "code",
      "metadata": {
        "colab": {
          "base_uri": "https://localhost:8080/"
        },
        "id": "HFPoI27d2GRw",
        "outputId": "7fa8af32-ab6c-46d2-fd64-77a89a962cc1"
      },
      "source": [
        "sqlContext.sql(\"\"\"\r\n",
        "select sum(Sale_Price) as Piedra\r\n",
        "from inmobiliaria\r\n",
        "where Mas_Vnr_Type = 'Stone' \r\n",
        "and MS_Zoning == 'RL' or MS_Zoning == 'RM' or MS_Zoning == 'RH'\r\n",
        "\"\"\").show()"
      ],
      "execution_count": 26,
      "outputs": [
        {
          "output_type": "stream",
          "text": [
            "+------------+\n",
            "|      Piedra|\n",
            "+------------+\n",
            "|1.17516851E8|\n",
            "+------------+\n",
            "\n"
          ],
          "name": "stdout"
        }
      ]
    },
    {
      "cell_type": "code",
      "metadata": {
        "id": "nxEU1Vt44EgP",
        "colab": {
          "base_uri": "https://localhost:8080/"
        },
        "outputId": "32e719af-a8b8-4d53-b101-3dd8633b8a34"
      },
      "source": [
        "sqlContext.sql(\"\"\"\n",
        "select sum(Sale_Price) as Ladrillo\n",
        "from inmobiliaria\n",
        "where Mas_Vnr_Type = 'BrkCmn' or Mas_Vnr_Type = 'BrkFace'\n",
        "and MS_Zoning == 'RL' or MS_Zoning == 'RM' or MS_Zoning == 'RH'\n",
        "\"\"\").show()"
      ],
      "execution_count": 27,
      "outputs": [
        {
          "output_type": "stream",
          "text": [
            "+------------+\n",
            "|    Ladrillo|\n",
            "+------------+\n",
            "|2.33939173E8|\n",
            "+------------+\n",
            "\n"
          ],
          "name": "stdout"
        }
      ]
    },
    {
      "cell_type": "markdown",
      "metadata": {
        "id": "3EmtAllRhug-"
      },
      "source": [
        "Podemos apreciar como el total de la recaudación de las casas de piedra respecto a las de ladrillo es inferior, incluso menor de la mitad."
      ]
    },
    {
      "cell_type": "markdown",
      "metadata": {
        "id": "R1zegBxgEq-J"
      },
      "source": [
        "## ¿Cuánto son más caras las viviendas con 2 cocinas, con 2 o más plazas de garaje que las que tienen 1 cocina y 1 plaza de garaje? Comparar medias y cuartiles de ambos casos"
      ]
    },
    {
      "cell_type": "markdown",
      "metadata": {
        "id": "nXtZrRSpi9XH"
      },
      "source": [
        "Primer tipo de vivienda, con 2 cocinar y con 2 o más plazas de garaje."
      ]
    },
    {
      "cell_type": "code",
      "metadata": {
        "colab": {
          "base_uri": "https://localhost:8080/"
        },
        "id": "2E56qw9W2Gw0",
        "outputId": "dad0e6be-d833-43b4-d6b7-b2219d80bf1b"
      },
      "source": [
        "vivienda1 = sqlContext.sql(\"\"\"\r\n",
        "select avg(Sale_Price) as Precio\r\n",
        "from inmobiliaria\r\n",
        "where Garage_Cars >= 2 and Kitchen_AbvGr = 2\r\n",
        "and MS_Zoning == 'RL' or MS_Zoning == 'RM' or MS_Zoning == 'RH'\r\n",
        "\"\"\").show()"
      ],
      "execution_count": 28,
      "outputs": [
        {
          "output_type": "stream",
          "text": [
            "+------------------+\n",
            "|            Precio|\n",
            "+------------------+\n",
            "|129564.72101449275|\n",
            "+------------------+\n",
            "\n"
          ],
          "name": "stdout"
        }
      ]
    },
    {
      "cell_type": "markdown",
      "metadata": {
        "id": "1pCpHGApjECu"
      },
      "source": [
        "Segundo tipo de vivienda, con 1 cocina y 1 plaza de garaje."
      ]
    },
    {
      "cell_type": "code",
      "metadata": {
        "colab": {
          "base_uri": "https://localhost:8080/"
        },
        "id": "gSNmdKje8Btz",
        "outputId": "b89eecfa-fc4b-458b-845d-e447b1eb986c"
      },
      "source": [
        "vivienda2 = sqlContext.sql(\"\"\"\r\n",
        "select avg(Sale_Price) as Precio\r\n",
        "from inmobiliaria\r\n",
        "where Garage_Cars = 1 and Kitchen_AbvGr = 1\r\n",
        "and MS_Zoning == 'RL' or MS_Zoning == 'RM' or MS_Zoning == 'RH'\r\n",
        "\"\"\").show()"
      ],
      "execution_count": 29,
      "outputs": [
        {
          "output_type": "stream",
          "text": [
            "+------------------+\n",
            "|            Precio|\n",
            "+------------------+\n",
            "|130784.10392156863|\n",
            "+------------------+\n",
            "\n"
          ],
          "name": "stdout"
        }
      ]
    },
    {
      "cell_type": "markdown",
      "metadata": {
        "id": "0KG5ggiNjgL1"
      },
      "source": [
        "La diferencia media de ambas en estas dos zonas es practicamente nula, para realmente el cambio que existe entre tener 2 cocinas y 2 plazas de garajes.\r\n",
        "Esta cuestión me parece muy extraña, ya que no concibo el motivo por el que una casa con menos plazas de garaje por ejemplo fuese a ser igual o más barata que las que tienen una sola plaza.\r\n",
        "\r\n",
        "\r\n",
        "\r\n"
      ]
    },
    {
      "cell_type": "markdown",
      "metadata": {
        "id": "aKOu64zXloZF"
      },
      "source": [
        "## (COMPLEMENTARIA) \r\n",
        "Estudiar la relación entre el precio y el número de Garajes. "
      ]
    },
    {
      "cell_type": "code",
      "metadata": {
        "colab": {
          "base_uri": "https://localhost:8080/"
        },
        "id": "DVd9luW1lytr",
        "outputId": "d85cfc51-d8c5-4df4-b4ed-7c5233f53cbc"
      },
      "source": [
        "garajes = inmobiliaria.select(\"Sale_Price\", \"Garage_Cars\") \\\r\n",
        "    .groupBy(\"Garage_cars\").agg(avg(\"Sale_Price\"))\r\n",
        "    \r\n",
        "garajes.show(5)"
      ],
      "execution_count": 30,
      "outputs": [
        {
          "output_type": "stream",
          "text": [
            "+-----------+------------------+\n",
            "|Garage_cars|   avg(Sale_Price)|\n",
            "+-----------+------------------+\n",
            "|          3|310011.74801061006|\n",
            "|          0|104949.25477707006|\n",
            "|          5|          126500.0|\n",
            "|          1|127267.42287917738|\n",
            "|          4|       228748.6875|\n",
            "+-----------+------------------+\n",
            "only showing top 5 rows\n",
            "\n"
          ],
          "name": "stdout"
        }
      ]
    },
    {
      "cell_type": "code",
      "metadata": {
        "colab": {
          "base_uri": "https://localhost:8080/",
          "height": 297
        },
        "id": "mNzxDqMUoAbD",
        "outputId": "d5fa7f1b-b272-48fd-97e5-f108d37ba6c3"
      },
      "source": [
        "# Importamos pandas\r\n",
        "import pandas as  pd\r\n",
        "\r\n",
        " # Pasamos el dataset anterior a formato pandas para plotearlo\r\n",
        "pd_garajes = garajes.toPandas()\r\n",
        "\r\n",
        "# Graficamos\r\n",
        "\r\n",
        "pd_garajes.plot(x=\"Garage_cars\", y=\"avg(Sale_Price)\")"
      ],
      "execution_count": 31,
      "outputs": [
        {
          "output_type": "execute_result",
          "data": {
            "text/plain": [
              "<matplotlib.axes._subplots.AxesSubplot at 0x7f8c01300b38>"
            ]
          },
          "metadata": {
            "tags": []
          },
          "execution_count": 31
        },
        {
          "output_type": "display_data",
          "data": {
            "image/png": "[encoded data removed]",
            "text/plain": [
              "<Figure size 432x288 with 1 Axes>"
            ]
          },
          "metadata": {
            "tags": [],
            "needs_background": "light"
          }
        }
      ]
    },
    {
      "cell_type": "markdown",
      "metadata": {
        "id": "IS9U0_nhpBPM"
      },
      "source": [
        "A través de este gráfico podemos observar como las casas con 3 garajes, en media tiene un precio superior, y como no podía ser de otra forma, las viviendas sin garaje son las más baratas."
      ]
    }
  ]
}