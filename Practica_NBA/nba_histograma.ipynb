{
  "nbformat": 4,
  "nbformat_minor": 0,
  "metadata": {
    "colab": {
      "name": "nba_histograma.ipynb",
      "provenance": [],
      "toc_visible": true
    },
    "kernelspec": {
      "display_name": "Python 3",
      "language": "python",
      "name": "python3"
    },
    "language_info": {
      "codemirror_mode": {
        "name": "ipython",
        "version": 3
      },
      "file_extension": ".py",
      "mimetype": "text/x-python",
      "name": "python",
      "nbconvert_exporter": "python",
      "pygments_lexer": "ipython3",
      "version": "3.7.1"
    }
  },
  "cells": [
    {
      "cell_type": "code",
      "metadata": {
        "id": "Pb7ljTmD5zvR"
      },
      "source": [
        "!apt-get install openjdk-8-jdk-headless -qq > /dev/null\n",
        "!wget -q https://www-us.apache.org/dist/spark/spark-2.4.7/spark-2.4.7-bin-hadoop2.7.tgz\n",
        "!tar xf spark-2.4.7-bin-hadoop2.7.tgz #d\n",
        "!pip install -q findspark \n",
        "\n",
        "import os\n",
        "os.environ[\"JAVA_HOME\"] = \"/usr/lib/jvm/java-8-openjdk-amd64\" #funciones dels sistema de python para cambiar variables de entorno y que funcione\n",
        "os.environ[\"SPARK_HOME\"] = \"/content/spark-2.4.7-bin-hadoop2.7\"\n",
        "\n",
        "import findspark #tenemos que generar un contexto spark para trabajar\n",
        "findspark.init()\n",
        "from pyspark import SparkContext\n",
        "sc = SparkContext()\n",
        "from pyspark.sql import SparkSession\n",
        "spark = SparkSession.builder.master(\"local[*]\").getOrCreate() \n",
        "\n"
      ],
      "execution_count": 1,
      "outputs": []
    },
    {
      "cell_type": "markdown",
      "metadata": {
        "id": "fgy7jwz6-FGY"
      },
      "source": [
        "Germán de los Mozos Romero\r\n",
        "09/12/2020"
      ]
    },
    {
      "cell_type": "markdown",
      "metadata": {
        "id": "aCd3Hvfj973P"
      },
      "source": [
        "El objetivo es realizar un histograma con SPARK de la variable puntos de visitante."
      ]
    },
    {
      "cell_type": "markdown",
      "metadata": {
        "id": "D2bcZtBT6xBm"
      },
      "source": [
        "Caerga de ficheros RDD"
      ]
    },
    {
      "cell_type": "code",
      "metadata": {
        "id": "yJE_hUyHvwHN"
      },
      "source": [
        "import pandas as pd\n",
        "\n"
      ],
      "execution_count": 13,
      "outputs": []
    },
    {
      "cell_type": "code",
      "metadata": {
        "id": "JWWFPaQx6f-e"
      },
      "source": [
        "nba = sc.textFile(\"partidosLigaNBA.csv\")"
      ],
      "execution_count": 5,
      "outputs": []
    },
    {
      "cell_type": "markdown",
      "metadata": {
        "id": "h_-3zIao-HxU"
      },
      "source": [
        "### Eliminamos la cabecera"
      ]
    },
    {
      "cell_type": "code",
      "metadata": {
        "id": "0xltrbOJ94pU",
        "colab": {
          "base_uri": "https://localhost:8080/"
        },
        "outputId": "679a9b02-a18b-49ef-f483-8f90ab8611e1"
      },
      "source": [
        "cabecera_nba = nba.take(1)[0] #cogemos la primer fila\n",
        "f_nba = nba.filter(lambda x: x != cabecera_nba) #funcion con la que filtramos no coger la cabecera\n",
        "f_nba.take(3)#take para que la función se ejecute"
      ],
      "execution_count": 6,
      "outputs": [
        {
          "output_type": "execute_result",
          "data": {
            "text/plain": [
              "['Tue, Oct 30, 2007:\"7:30 pm\":Utah Jazz:117:Golden State Warriors:96',\n",
              " 'Tue, Oct 30, 2007:\"7:30 pm\":Houston Rockets:95:Los Angeles Lakers:93',\n",
              " 'Tue, Oct 30, 2007:\"7:00 pm\":Portland Trail Blazers:97:San Antonio Spurs:106']"
            ]
          },
          "metadata": {
            "tags": []
          },
          "execution_count": 6
        }
      ]
    },
    {
      "cell_type": "markdown",
      "metadata": {
        "id": "VuJFS3a_AFPl"
      },
      "source": [
        "\n",
        "### Lo siguiente es separar los elementos de cada uno de las columnas, que ahora mismo se encuentran separados por \":\""
      ]
    },
    {
      "cell_type": "code",
      "metadata": {
        "id": "-n2lGFUO_hei",
        "colab": {
          "base_uri": "https://localhost:8080/"
        },
        "outputId": "0787cdd5-5f41-4f61-a28a-d6b4be9b8614"
      },
      "source": [
        "f_nba=f_nba.map(lambda x: x.split(\":\"))\n",
        "f_nba.take(3)"
      ],
      "execution_count": 7,
      "outputs": [
        {
          "output_type": "execute_result",
          "data": {
            "text/plain": [
              "[['Tue, Oct 30, 2007',\n",
              "  '\"7',\n",
              "  '30 pm\"',\n",
              "  'Utah Jazz',\n",
              "  '117',\n",
              "  'Golden State Warriors',\n",
              "  '96'],\n",
              " ['Tue, Oct 30, 2007',\n",
              "  '\"7',\n",
              "  '30 pm\"',\n",
              "  'Houston Rockets',\n",
              "  '95',\n",
              "  'Los Angeles Lakers',\n",
              "  '93'],\n",
              " ['Tue, Oct 30, 2007',\n",
              "  '\"7',\n",
              "  '00 pm\"',\n",
              "  'Portland Trail Blazers',\n",
              "  '97',\n",
              "  'San Antonio Spurs',\n",
              "  '106']]"
            ]
          },
          "metadata": {
            "tags": []
          },
          "execution_count": 7
        }
      ]
    },
    {
      "cell_type": "markdown",
      "metadata": {
        "id": "FfeuflNHA7-n"
      },
      "source": [
        "Con que lo que nos interesa es coger el último valor de la lista, hacemos otra función y los pasamos a número para poder graficarlos."
      ]
    },
    {
      "cell_type": "code",
      "metadata": {
        "id": "r8IOqlRBA7ep",
        "colab": {
          "base_uri": "https://localhost:8080/"
        },
        "outputId": "be7b23df-083d-4a92-dc45-671b8c18ba28"
      },
      "source": [
        "f_nba=f_nba.map(lambda x: x[-1])\n",
        "f_nba.take(3)"
      ],
      "execution_count": 8,
      "outputs": [
        {
          "output_type": "execute_result",
          "data": {
            "text/plain": [
              "['96', '93', '106']"
            ]
          },
          "metadata": {
            "tags": []
          },
          "execution_count": 8
        }
      ]
    },
    {
      "cell_type": "code",
      "metadata": {
        "id": "rPIDjfwcCqqg",
        "colab": {
          "base_uri": "https://localhost:8080/"
        },
        "outputId": "d70964d1-0bf7-4ed8-8b8f-b8934cc7d0e9"
      },
      "source": [
        "#filtramos por aquellos que son digitos\n",
        "f_nba=f_nba.filter(lambda x_int: x_int.isdigit())\n",
        "f_nba=f_nba.map(lambda x: int(x))\n",
        "f_nba.take(30)"
      ],
      "execution_count": 9,
      "outputs": [
        {
          "output_type": "execute_result",
          "data": {
            "text/plain": [
              "[96,\n",
              " 93,\n",
              " 106,\n",
              " 74,\n",
              " 120,\n",
              " 119,\n",
              " 101,\n",
              " 112,\n",
              " 104,\n",
              " 102,\n",
              " 106,\n",
              " 80,\n",
              " 99,\n",
              " 95,\n",
              " 101,\n",
              " 103,\n",
              " 102,\n",
              " 85,\n",
              " 110,\n",
              " 87,\n",
              " 120,\n",
              " 91,\n",
              " 69,\n",
              " 113,\n",
              " 92,\n",
              " 98,\n",
              " 96,\n",
              " 123,\n",
              " 89,\n",
              " 111]"
            ]
          },
          "metadata": {
            "tags": []
          },
          "execution_count": 9
        }
      ]
    },
    {
      "cell_type": "markdown",
      "metadata": {
        "id": "MsGevBMFEh80"
      },
      "source": [
        "Hacemos la función del intervalo"
      ]
    },
    {
      "cell_type": "code",
      "metadata": {
        "id": "-ZutSs54EhZc"
      },
      "source": [
        "\n",
        "def intervalo(x):\n",
        "  \n",
        "  if x<75:\n",
        "    return 'intervalo1'\n",
        "  elif x <83:\n",
        "    return 'intervalo'\n",
        "  elif x<94:\n",
        "    return 'intervalo'\n",
        "  elif x<105:\n",
        "    return 'intervalo 4'\n",
        "  elif x<115:\n",
        "    return 'intervalo 5'\n",
        "  elif x<128:\n",
        "    return 'intervalo 6'\n",
        "  elif x<143:\n",
        "    return 'intervalo7'\n",
        "  elif x<152:\n",
        "    return 'intervalo 8'\n",
        "  elif x<=168:\n",
        "    return 'intervalo 10'\n",
        "\n",
        "\n"
      ],
      "execution_count": 10,
      "outputs": []
    },
    {
      "cell_type": "markdown",
      "metadata": {
        "id": "K0yLYw1-HcBW"
      },
      "source": [
        "Aplicamos la función y vemos todo lo hecho anteriormente"
      ]
    },
    {
      "cell_type": "code",
      "metadata": {
        "id": "QVQaH79aFm7V"
      },
      "source": [
        "f_nba_intervalo = nba.filter(lambda y: y!= cabecera_nba) \\\n",
        "                      .map(lambda y: y.split(\":\")[-1]) \\\n",
        "                      .filter(lambda y_int: y_int.isdigit()) \\\n",
        "                      .map(lambda y: int(y)) \\\n",
        "                      .map(lambda x : (intervalo(x),1)) \\\n",
        "                      .reduceByKey(lambda a, b: a + b) \\\n",
        "                      .collect()\n"
      ],
      "execution_count": 11,
      "outputs": []
    },
    {
      "cell_type": "code",
      "metadata": {
        "colab": {
          "base_uri": "https://localhost:8080/"
        },
        "id": "GlKfwhmZIdbY",
        "outputId": "d5c9d417-c278-49e2-d5c2-02820e9a0995"
      },
      "source": [
        "f_nba_intervalo #vemos como están distribuidos los intervalos"
      ],
      "execution_count": 12,
      "outputs": [
        {
          "output_type": "execute_result",
          "data": {
            "text/plain": [
              "[('intervalo 4', 4491),\n",
              " ('intervalo 5', 3201),\n",
              " ('intervalo1', 134),\n",
              " ('intervalo 6', 1649),\n",
              " ('intervalo7', 279),\n",
              " ('intervalo 10', 2),\n",
              " ('intervalo', 3127),\n",
              " ('intervalo 8', 14)]"
            ]
          },
          "metadata": {
            "tags": []
          },
          "execution_count": 12
        }
      ]
    },
    {
      "cell_type": "markdown",
      "metadata": {
        "id": "TNaXp6WOI90E"
      },
      "source": [
        "Hacemos el histograma"
      ]
    },
    {
      "cell_type": "code",
      "metadata": {
        "colab": {
          "base_uri": "https://localhost:8080/",
          "height": 433
        },
        "id": "bKvJI0IjI9RE",
        "outputId": "93ca5a6f-0ec4-477f-9245-263290c6c9a4"
      },
      "source": [
        "Intervalos, y = zip(*f_nba_intervalo)\n",
        "x = np.arange(len(Intervalos)) \n",
        "width = 1\n",
        "plt.bar(x, y, width, align='center')\n",
        "\n",
        "plt.xticks(x, Intervalos) \n",
        "plt.yticks(y)\n",
        "\n"
      ],
      "execution_count": null,
      "outputs": [
        {
          "output_type": "execute_result",
          "data": {
            "text/plain": [
              "([<matplotlib.axis.YTick at 0x7f5da44bd160>,\n",
              "  <matplotlib.axis.YTick at 0x7f5da44b9b00>,\n",
              "  <matplotlib.axis.YTick at 0x7f5da44b8ef0>,\n",
              "  <matplotlib.axis.YTick at 0x7f5da44f6b38>,\n",
              "  <matplotlib.axis.YTick at 0x7f5da44f6d68>,\n",
              "  <matplotlib.axis.YTick at 0x7f5da447e4a8>,\n",
              "  <matplotlib.axis.YTick at 0x7f5da447e940>,\n",
              "  <matplotlib.axis.YTick at 0x7f5da447edd8>],\n",
              " <a list of 8 Text major ticklabel objects>)"
            ]
          },
          "metadata": {
            "tags": []
          },
          "execution_count": 104
        },
        {
          "output_type": "display_data",
          "data": {
            "image/png": "[encoded data removed]",
            "text/plain": [
              "<Figure size 432x288 with 1 Axes>"
            ]
          },
          "metadata": {
            "tags": [],
            "needs_background": "light"
          }
        }
      ]
    }
  ]
}