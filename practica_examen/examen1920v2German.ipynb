{
  "nbformat": 4,
  "nbformat_minor": 0,
  "metadata": {
    "kernelspec": {
      "display_name": "Python 3",
      "language": "python",
      "name": "python3"
    },
    "language_info": {
      "codemirror_mode": {
        "name": "ipython",
        "version": 3
      },
      "file_extension": ".py",
      "mimetype": "text/x-python",
      "name": "python",
      "nbconvert_exporter": "python",
      "pygments_lexer": "ipython3",
      "version": "3.7.4"
    },
    "colab": {
      "name": "examen1920v2German.ipynb",
      "provenance": [],
      "collapsed_sections": [],
      "toc_visible": true
    }
  },
  "cells": [
    {
      "cell_type": "markdown",
      "metadata": {
        "id": "NvhHrssWdd0U"
      },
      "source": [
        "## Germán de los Mozos"
      ]
    },
    {
      "cell_type": "markdown",
      "metadata": {
        "id": "cJcZYN7mhs5W"
      },
      "source": [
        "### **1. Inicializar y cargar el contexto spark**"
      ]
    },
    {
      "cell_type": "code",
      "metadata": {
        "id": "Pb7ljTmD5zvR"
      },
      "source": [
        "!apt-get install openjdk-8-jdk-headless -qq > /dev/null\n",
        "!wget -q https://www-us.apache.org/dist/spark/spark-2.4.7/spark-2.4.7-bin-hadoop2.7.tgz\n",
        "!tar xf spark-2.4.7-bin-hadoop2.7.tgz #d\n",
        "!pip install -q findspark \n",
        "\n",
        "import os\n",
        "os.environ[\"JAVA_HOME\"] = \"/usr/lib/jvm/java-8-openjdk-amd64\" \n",
        "os.environ[\"SPARK_HOME\"] = \"/content/spark-2.4.7-bin-hadoop2.7\"\n",
        "\n",
        "import findspark \n",
        "findspark.init()\n",
        "from pyspark import SparkContext\n",
        "sc = SparkContext()\n",
        "from pyspark.sql import SparkSession\n",
        "spark = SparkSession.builder.master(\"local[*]\").getOrCreate()\n",
        "\n"
      ],
      "execution_count": 1,
      "outputs": []
    },
    {
      "cell_type": "code",
      "metadata": {
        "collapsed": true,
        "id": "Ty2nRY8gDt9T"
      },
      "source": [
        "from pyspark import SparkContext\n",
        "from pyspark.sql import *\n",
        "from pyspark.sql import SQLContext, functions as F, Row\n",
        "from pyspark.sql.types import *\n",
        "from pyspark.sql.types import StringType, IntegerType\n",
        "\n",
        "# Librería para dar formato a las salidas obtenidas\n",
        "import pandas as pd\n",
        "# Librería para aplicar expresiones regulares en el parseado\n",
        "import re\n",
        "# librería para parsear las fechas con formato date\n",
        "from datetime import datetime\n",
        "# Librería que permite descargar información de una url desde python\n",
        "import urllib\n",
        "from urllib.request import urlretrieve\n",
        "# Librería para llamar a funciones relacionadas con el sistema operativo\n",
        "import os"
      ],
      "execution_count": 2,
      "outputs": []
    },
    {
      "cell_type": "code",
      "metadata": {
        "id": "9VflAiuufPng"
      },
      "source": [
        "\n",
        "# Creamos el contexto spark\n",
        "from pyspark import SparkContext\n",
        "sc = SparkContext.getOrCreate()\n",
        "\n",
        "    # Creamos la sesión de spark\n",
        "from pyspark.sql import SparkSession\n",
        "spark = SparkSession.builder.master(\"local[*]\").getOrCreate()\n",
        "\n",
        "    # Importamos las sesiones\n",
        "from pyspark.sql.functions import col, avg, desc, sum"
      ],
      "execution_count": 3,
      "outputs": []
    },
    {
      "cell_type": "markdown",
      "metadata": {
        "id": "UzziAwTper_2"
      },
      "source": [
        "A continuación, cargaremos los datos con la funcion textFile(), veremos que estructura siguen estos datos y el numeo de registros de cada uno."
      ]
    },
    {
      "cell_type": "markdown",
      "metadata": {
        "id": "TlDOfdKiliSt"
      },
      "source": [
        "**Indicadores Desarrollo**"
      ]
    },
    {
      "cell_type": "code",
      "metadata": {
        "colab": {
          "base_uri": "https://localhost:8080/"
        },
        "id": "BoF4MgR22Kvs",
        "outputId": "ac8aeb80-fd10-42a4-dfca-0eb5baea0209"
      },
      "source": [
        "# Cargamos los datos\r\n",
        "data_desarrollo = spark.read.format(\"csv\") \\\r\n",
        "    .option(\"sep\", \",\") \\\r\n",
        "    .option(\"header\", \"true\") \\\r\n",
        "    .option(\"inferSchema\", \"true\") \\\r\n",
        "    .load(\"indicadores_desarrollo.csv\")\r\n",
        "\r\n",
        "    # Observamos las primeras 10 filas\r\n",
        "data_desarrollo.show(10)"
      ],
      "execution_count": 8,
      "outputs": [
        {
          "output_type": "stream",
          "text": [
            "+------------+------------+-------------+---------------+------------------+--------------+\n",
            "|country_name|country_code|         anho| GC.DOD.TOTL.CN| GC.DOD.TOTL.GD.ZS|SP.DYN.CBRT.IN|\n",
            "+------------+------------+-------------+---------------+------------------+--------------+\n",
            "|     Albania|         ALB|2014 [YR2014]|   1.0230408E12|  73.3202469198429|        12.259|\n",
            "|     Albania|         ALB|2015 [YR2015]|  1.14550094E12|  79.8644448747259|        12.197|\n",
            "|     Albania|         ALB|2016 [YR2016]|  1.18881449E12|  80.7355748396923|         12.08|\n",
            "|   Australia|         AUS|2014 [YR2014]|        6.747E8| 0.042207528166503|          13.2|\n",
            "|   Australia|         AUS|2015 [YR2015]|      7.62718E8|0.0469480198522591|          12.9|\n",
            "|   Australia|         AUS|2016 [YR2016]|      9.07555E8| 0.054648482520169|          12.9|\n",
            "|Bahamas, The|         BHS|2014 [YR2014]|      5.15842E9|  47.2672793747079|         14.34|\n",
            "|Bahamas, The|         BHS|2015 [YR2015]|      5.65515E9|  48.1195170307089|        14.224|\n",
            "|Bahamas, The|         BHS|2016 [YR2016]|     6.138814E9|  51.4207431481606|        14.131|\n",
            "|    Barbados|         BRB|2014 [YR2014]|1.2175704025E10|  129.629591844133|        10.916|\n",
            "+------------+------------+-------------+---------------+------------------+--------------+\n",
            "only showing top 10 rows\n",
            "\n"
          ],
          "name": "stdout"
        }
      ]
    },
    {
      "cell_type": "code",
      "metadata": {
        "colab": {
          "base_uri": "https://localhost:8080/"
        },
        "id": "_rHkHPDJy_Bh",
        "outputId": "8397cb7e-214a-44c4-82f3-510843d04e56"
      },
      "source": [
        "data_desarrollo.count()"
      ],
      "execution_count": 9,
      "outputs": [
        {
          "output_type": "execute_result",
          "data": {
            "text/plain": [
              "134"
            ]
          },
          "metadata": {
            "tags": []
          },
          "execution_count": 9
        }
      ]
    },
    {
      "cell_type": "markdown",
      "metadata": {
        "id": "-aGS3tdKms-6"
      },
      "source": [
        "**Indicadores Deuda**"
      ]
    },
    {
      "cell_type": "markdown",
      "metadata": {
        "id": "0Nc0EO4AuDR-"
      },
      "source": [
        "Podemos ver como los datos aparecen separados por comas \",\".\r\n",
        " Ademas existe una cabecera por lo que el valor de esa option sera \"true\"."
      ]
    },
    {
      "cell_type": "code",
      "metadata": {
        "colab": {
          "base_uri": "https://localhost:8080/"
        },
        "id": "m0BbZWAs3NnA",
        "outputId": "b3eb193b-941b-46b3-f54e-6384693363af"
      },
      "source": [
        "# Cargamos los datos\r\n",
        "data_deuda = spark.read.format(\"csv\") \\\r\n",
        "    .option(\"sep\", \",\") \\\r\n",
        "    .option(\"header\", \"true\") \\\r\n",
        "    .option(\"inferSchema\", \"true\") \\\r\n",
        "    .load(\"indicadores_deuda.csv\")\r\n",
        "\r\n",
        "    # Observamos las primeras 10 filas\r\n",
        "data_deuda.show(10)"
      ],
      "execution_count": 10,
      "outputs": [
        {
          "output_type": "stream",
          "text": [
            "+------------+------------+--------------+----------------+--------------+--------------+--------------+--------------+--------------+--------------+--------------+--------------+----------------+--------------+--------------+--------------+--------------+--------------+--------------+--------------+--------------+--------------+--------------+--------------+--------------+--------------+--------------+\n",
            "|country_name|country_code|DT.AMT.BLAT.CD|  DT.AMT.DLXF.CD|DT.AMT.DPNG.CD|DT.AMT.MLAT.CD|DT.AMT.OFFT.CD|DT.AMT.PBND.CD|DT.AMT.PCBK.CD|DT.AMT.PROP.CD|DT.AMT.PRVT.CD|DT.DIS.BLAT.CD|  DT.DIS.DLXF.CD|DT.DIS.MLAT.CD|DT.DIS.OFFT.CD|DT.DIS.PCBK.CD|DT.DIS.PROP.CD|DT.DIS.PRVT.CD|DT.INT.BLAT.CD|DT.INT.DLXF.CD|DT.INT.DPNG.CD|DT.INT.MLAT.CD|DT.INT.OFFT.CD|DT.INT.PBND.CD|DT.INT.PCBK.CD|DT.INT.PROP.CD|DT.INT.PRVT.CD|\n",
            "+------------+------------+--------------+----------------+--------------+--------------+--------------+--------------+--------------+--------------+--------------+--------------+----------------+--------------+--------------+--------------+--------------+--------------+--------------+--------------+--------------+--------------+--------------+--------------+--------------+--------------+--------------+\n",
            "| Afghanistan|         AFG|  6.17393369E7|   1.008471819E8|          null|   3.9107845E7| 1.008471819E8|          null|          null|          null|          null|  4.91147294E7|    7.28944537E7|  2.37797243E7|  7.28944537E7|          null|          null|          null|  3.99036201E7|  5.32394401E7|          null|    1.333582E7|  5.32394401E7|          null|          null|          null|          null|\n",
            "|     Albania|         ALB|  5.42502806E7|   7.902486752E8|   5.1418562E8| 1.821976167E8| 2.364478973E8|           0.0|  3.94451395E7|      170018.4|  3.96151579E7|  7.60506161E7|   3.171945125E8| 2.343212423E8| 3.103718584E8|     4542664.9|     2279989.2|     6822654.1|  1.38473336E7| 1.656023869E8|      8.7884E7|  2.81015361E7|  4.19488697E7|  3.10306882E7|     4618504.3|      120324.7|  3.57695172E7|\n",
            "|     Algeria|         DZA|  9.51887246E7|   1.711851881E8|       7.542E7|           0.0|  9.51887246E7|          null|      576463.5|           0.0|      576463.5|  1.03207722E7|    1.03207722E7|          null|  1.03207722E7|          null|          null|          null|     7680627.6|  1.90317287E7|     3220000.0|     8094779.0|  1.57754066E7|          null|       13192.3|       23129.8|       36322.1|\n",
            "|      Angola|         AGO|8.4738240163E9|1.10670456281E10|          null| 1.246886919E8|8.5985127082E9|         1.0E9|1.1250887199E9|    3.434442E8|2.4685329199E9|8.8382569011E9|1.09240180931E10| 1.789895982E8|9.0172464993E9|1.9067715938E9|          null|1.9067715938E9|1.0050539651E9|1.7985504455E9|          null|  4.70384761E7|1.0520924412E9|         7.0E7| 5.809020043E8|      9.5556E7| 7.464580043E8|\n",
            "|     Armenia|         ARM|  6.89683147E7|   8.456307238E8|   6.8069619E8|  9.43312071E7| 1.632995218E8|           0.0|     1635012.0|          null|     1635012.0| 1.742698467E8|   4.269591756E8| 2.526893289E8| 4.269591756E8|          null|          null|          null|   2.4094832E7| 2.752929811E8|     1.28076E8|  5.71714639E7|  8.12662959E7|      6.5754E7|      196685.2|          null|  6.59506852E7|\n",
            "|  Azerbaijan|         AZE|  1.06369937E8|  1.5138136614E9| 4.660968139E8| 5.136236565E8| 6.199935935E8|           0.0| 4.236131038E8|     4110150.2|  4.27723254E8|  8.47480796E7|  1.0884580612E9|  6.56158982E8| 7.409070616E8| 3.475509996E8|          null| 3.475509996E8|    1.008595E7| 4.957328581E8|   7.4183981E7| 1.365771469E8| 1.466630969E8|     2.25022E8|  4.95747802E7|      289000.0| 2.748857802E8|\n",
            "|  Bangladesh|         BGD| 3.867022198E8|  2.0770145529E9|      6.4512E8|1.0395646827E9|1.4262669025E9|          null|     3943983.7|     1683666.7|     5627650.4|6.1417856375E9|  9.0505576119E9|2.9087719744E9|9.0505576119E9|          null|          null|          null| 3.090797734E8| 8.211464487E8|     1.55543E8| 3.563926753E8| 6.654724487E8|          null|           0.0|      131000.0|      131000.0|\n",
            "|     Belarus|         BLR|1.4873632785E9|  4.6400378842E9|1.5932654913E9|  5.95438826E8|2.0828021045E9|           0.0| 9.350582884E8|      2.8912E7| 9.639702884E8|2.2653363867E9|  2.5252274149E9|  2.41493806E8|2.5068301927E9|          null|  1.83972222E7|  1.83972222E7| 6.302349149E8|1.2144898971E9| 2.726403064E8| 1.330265799E8| 7.632614948E8|      1.0075E8|  7.70990959E7|      739000.0| 1.785880959E8|\n",
            "|      Belize|         BLZ|  2.33294984E7|   1.056099249E8|      2.6272E7|  2.96833265E7|  5.30128249E7|     2.63251E7|           0.0|          null|     2.63251E7|     3581448.7|    5.34295276E7|  4.98480789E7|  5.34295276E7|          null|          null|          null|     3455608.4|  5.35654371E7|     4480000.0|  1.09968287E7|  1.44524371E7|      3.3549E7|     1084000.0|          null|      3.4633E7|\n",
            "|       Benin|         BEN|  2.60145058E7|   1.463219583E8|          null|  9.16316395E7| 1.176461453E8|          null|   2.8675813E7|          null|   2.8675813E7| 3.346982873E8|   6.484447729E8| 2.697474412E8| 6.044457285E8|  4.39990444E7|          null|  4.39990444E7|  1.32084086E7|  5.02930119E7|          null|  3.35193037E7|  4.67277123E7|          null|     3565299.6|          null|     3565299.6|\n",
            "+------------+------------+--------------+----------------+--------------+--------------+--------------+--------------+--------------+--------------+--------------+--------------+----------------+--------------+--------------+--------------+--------------+--------------+--------------+--------------+--------------+--------------+--------------+--------------+--------------+--------------+--------------+\n",
            "only showing top 10 rows\n",
            "\n"
          ],
          "name": "stdout"
        }
      ]
    },
    {
      "cell_type": "markdown",
      "metadata": {
        "id": "8X2JvzNZph3b"
      },
      "source": [
        "A continuación, renombraremos las columnas utilizando la funcion withColumnRenamned para evitar problemas al trabajar con ellas."
      ]
    },
    {
      "cell_type": "code",
      "metadata": {
        "colab": {
          "base_uri": "https://localhost:8080/"
        },
        "id": "nvvwlD4HphKD",
        "outputId": "fc623086-f7ee-4c2b-ce6b-59fddb859446"
      },
      "source": [
        "\r\n",
        "data_desarrollo = data_desarrollo.withColumnRenamed(\"anho\", \"year\") \\\r\n",
        "    .withColumnRenamed(\"GC.DOD.TOTL.CN\", \"gob_debt_LCU\") \\\r\n",
        "    .withColumnRenamed(\"GC.DOD.TOTL.GD.ZS\", \"gob_debt_tot\") \\\r\n",
        "    .withColumnRenamed(\"SP.DYN.CBRT.IN\", \"birth_rate\")\r\n",
        "\r\n",
        "    # Comprobamos si se ha ejecutado y ha cambiado\r\n",
        "data_desarrollo.printSchema()"
      ],
      "execution_count": 11,
      "outputs": [
        {
          "output_type": "stream",
          "text": [
            "root\n",
            " |-- country_name: string (nullable = true)\n",
            " |-- country_code: string (nullable = true)\n",
            " |-- year: string (nullable = true)\n",
            " |-- gob_debt_LCU: double (nullable = true)\n",
            " |-- gob_debt_tot: double (nullable = true)\n",
            " |-- birth_rate: double (nullable = true)\n",
            "\n"
          ],
          "name": "stdout"
        }
      ]
    },
    {
      "cell_type": "markdown",
      "metadata": {
        "id": "vgWHucDLqa8p"
      },
      "source": [
        "Observamos con printSchema() los datos de deuda"
      ]
    },
    {
      "cell_type": "code",
      "metadata": {
        "colab": {
          "base_uri": "https://localhost:8080/"
        },
        "id": "zqmK8aGpqaS5",
        "outputId": "16939e6d-31b3-427b-e067-1a2e7646b3a2"
      },
      "source": [
        "# Observamos los datos con printSchema()\r\n",
        "data_deuda.printSchema()"
      ],
      "execution_count": 12,
      "outputs": [
        {
          "output_type": "stream",
          "text": [
            "root\n",
            " |-- country_name: string (nullable = true)\n",
            " |-- country_code: string (nullable = true)\n",
            " |-- DT.AMT.BLAT.CD: double (nullable = true)\n",
            " |-- DT.AMT.DLXF.CD: double (nullable = true)\n",
            " |-- DT.AMT.DPNG.CD: double (nullable = true)\n",
            " |-- DT.AMT.MLAT.CD: double (nullable = true)\n",
            " |-- DT.AMT.OFFT.CD: double (nullable = true)\n",
            " |-- DT.AMT.PBND.CD: double (nullable = true)\n",
            " |-- DT.AMT.PCBK.CD: double (nullable = true)\n",
            " |-- DT.AMT.PROP.CD: double (nullable = true)\n",
            " |-- DT.AMT.PRVT.CD: double (nullable = true)\n",
            " |-- DT.DIS.BLAT.CD: double (nullable = true)\n",
            " |-- DT.DIS.DLXF.CD: double (nullable = true)\n",
            " |-- DT.DIS.MLAT.CD: double (nullable = true)\n",
            " |-- DT.DIS.OFFT.CD: double (nullable = true)\n",
            " |-- DT.DIS.PCBK.CD: double (nullable = true)\n",
            " |-- DT.DIS.PROP.CD: double (nullable = true)\n",
            " |-- DT.DIS.PRVT.CD: double (nullable = true)\n",
            " |-- DT.INT.BLAT.CD: double (nullable = true)\n",
            " |-- DT.INT.DLXF.CD: double (nullable = true)\n",
            " |-- DT.INT.DPNG.CD: double (nullable = true)\n",
            " |-- DT.INT.MLAT.CD: double (nullable = true)\n",
            " |-- DT.INT.OFFT.CD: double (nullable = true)\n",
            " |-- DT.INT.PBND.CD: double (nullable = true)\n",
            " |-- DT.INT.PCBK.CD: double (nullable = true)\n",
            " |-- DT.INT.PROP.CD: double (nullable = true)\n",
            " |-- DT.INT.PRVT.CD: double (nullable = true)\n",
            "\n"
          ],
          "name": "stdout"
        }
      ]
    },
    {
      "cell_type": "markdown",
      "metadata": {
        "id": "gYZpYMcVdiCE"
      },
      "source": [
        "##  The World Bank's international debt data\n",
        "<p>No es que los humanos solo tengamos deudas para administrar nuestras necesidades. Un país también puede endeudarse para administrar su economía. Por ejemplo, el gasto en infraestructura es un ingrediente costoso requerido para que los ciudadanos de un país lleven una vida cómoda. El Banco Mundial es la organización que proporciona deuda a los países.</p>\n",
        "\n",
        "<!-- <p>En este notebook, vamos a analizar los datos de la deuda internacional recopilados por el Banco Mundial. El conjunto de datos contiene información sobre el monto de la deuda (en USD) que deben los países en desarrollo en varias categorías.</p>  -->\n",
        "    "
      ]
    },
    {
      "cell_type": "markdown",
      "metadata": {
        "id": "MvJ2iPa8dPpP"
      },
      "source": [
        "\"Disbursements on external debt, long-term (DIS, current US$)\",DT.DIS.DLXF.CD\n",
        "\"Interest payments on external debt, long-term (INT, current US$)\",DT.INT.DLXF.CD\n",
        "\"PPG, bilateral (AMT, current US$)\",DT.AMT.BLAT.CD\n",
        "\"PPG, bilateral (DIS, current US$)\",DT.DIS.BLAT.CD\n",
        "\"PPG, bilateral (INT, current US$)\",DT.INT.BLAT.CD\n",
        "\"PPG, multilateral (AMT, current US$)\",DT.AMT.MLAT.CD\n",
        "\"PPG, multilateral (DIS, current US$)\",DT.DIS.MLAT.CD\n",
        "\"PPG, multilateral (INT, current US$)\",DT.INT.MLAT.CD\n",
        "\"PPG, official creditors (AMT, current US$)\",DT.AMT.OFFT.CD\n",
        "\"PPG, official creditors (DIS, current US$)\",DT.DIS.OFFT.CD\n",
        "\"PPG, official creditors (INT, current US$)\",DT.INT.OFFT.CD\n",
        "\"Principal repayments on external debt, long-term (AMT, current US$)\",DT.AMT.DLXF.CD\n",
        "\"Interest payments on external debt, private nonguaranteed (PNG) (INT, current US$)\",DT.INT.DPNG.CD\n",
        "\"PPG, bonds (AMT, current US$)\",DT.AMT.PBND.CD\n",
        "\"PPG, bonds (INT, current US$)\",DT.INT.PBND.CD\n",
        "\"PPG, commercial banks (AMT, current US$)\",DT.AMT.PCBK.CD\n",
        "\"PPG, commercial banks (DIS, current US$)\",DT.DIS.PCBK.CD\n",
        "\"PPG, commercial banks (INT, current US$)\",DT.INT.PCBK.CD\n",
        "\"PPG, other private creditors (AMT, current US$)\",DT.AMT.PROP.CD\n",
        "\"PPG, other private creditors (DIS, current US$)\",DT.DIS.PROP.CD\n",
        "\"PPG, other private creditors (INT, current US$)\",DT.INT.PROP.CD\n",
        "\"PPG, private creditors (AMT, current US$)\",DT.AMT.PRVT.CD\n",
        "\"PPG, private creditors (DIS, current US$)\",DT.DIS.PRVT.CD\n",
        "\"PPG, private creditors (INT, current US$)\",DT.INT.PRVT.CD\n",
        "\"Principal repayments on external debt, private nonguaranteed (PNG) (AMT, current US$)\",DT.AMT.DPNG.CD"
      ]
    },
    {
      "cell_type": "markdown",
      "metadata": {
        "id": "TGtpdYa9dPpQ"
      },
      "source": [
        "<p>Vamos a encontrar las respuestas a preguntas como:\n",
        "\n",
        "<p>¿Cuál es el monto total de la deuda que deben los países enumerados en el conjunto de datos?\n",
        "<p>¿Qué país posee la cantidad máxima de deuda y cómo se ve esa cantidad?\n",
        "<p>¿Cuál es el monto promedio de la deuda de los países a través de diferentes indicadores de deuda?\n",
        "    \n",
        "Además tenemos otro dataset en el que encontramos información histórica de algunos índices de desarrollo, entre los que se encuentran algunos de deuda como son:"
      ]
    },
    {
      "cell_type": "markdown",
      "metadata": {
        "id": "EIbCM7cQdPpR"
      },
      "source": [
        "Series Name,Series Code\n",
        "\"Birth rate, crude (per 1,000 people)\",SP.DYN.CBRT.IN\n",
        "\n",
        "\"Central government debt, total (current LCU)\",GC.DOD.TOTL.CN\n",
        "\n",
        "\"Central government debt, total (% of GDP)\",GC.DOD.TOTL.GD.ZS"
      ]
    },
    {
      "cell_type": "markdown",
      "metadata": {
        "id": "iNNOCcyAoUoc"
      },
      "source": [
        ""
      ]
    },
    {
      "cell_type": "markdown",
      "metadata": {
        "id": "Hhkp16iGdPpS"
      },
      "source": [
        "### **2. Número de países distintos en cada dataset. Coinciden?**"
      ]
    },
    {
      "cell_type": "markdown",
      "metadata": {
        "id": "zrPf157YvNas"
      },
      "source": [
        "Para elegir y seleccionar el número de países distitnos de cada dataset utilizaremos la función select() para seleccionar la columna que queremos, en este caso es \"country_name\", además como queremos que todos los valores sean distintos usaremos la función distinct(). Usaremos la función count para contar cuantos registros son."
      ]
    },
    {
      "cell_type": "code",
      "metadata": {
        "colab": {
          "base_uri": "https://localhost:8080/"
        },
        "id": "xJZgJmhihozl",
        "outputId": "6e5cff04-6dbd-4e30-ef8f-881924d24bb2"
      },
      "source": [
        "paises_desarrollo = data_desarrollo.select(\"country_name\").distinct().count()\r\n",
        "print(\"Hay un total de {} países distintos en el dataset de indicadores_desarrollo.\".format(paises_desarrollo))"
      ],
      "execution_count": 13,
      "outputs": [
        {
          "output_type": "stream",
          "text": [
            "Hay un total de 51 países distintos en el dataset de indicadores_desarrollo.\n"
          ],
          "name": "stdout"
        }
      ]
    },
    {
      "cell_type": "code",
      "metadata": {
        "colab": {
          "base_uri": "https://localhost:8080/"
        },
        "id": "bgc4xSnvUcqp",
        "outputId": "bea234ee-e590-468e-b0f2-87ae373fc6c9"
      },
      "source": [
        "paises_deuda = data_deuda.select(\"country_name\").distinct().count()\r\n",
        "print(\"Hay un total de {} países distintos en el dataset de indicadores_deuda.\".format(paises_deuda))"
      ],
      "execution_count": 14,
      "outputs": [
        {
          "output_type": "stream",
          "text": [
            "Hay un total de 124 países distintos en el dataset de indicadores_deuda.\n"
          ],
          "name": "stdout"
        }
      ]
    },
    {
      "cell_type": "code",
      "metadata": {
        "colab": {
          "base_uri": "https://localhost:8080/"
        },
        "id": "fDk53wr0Ucto",
        "outputId": "e874876f-beff-4d68-de46-1cc2f6229d69"
      },
      "source": [
        "\r\n",
        "diferencia_paises = (paises_deuda-paises_desarrollo)\r\n",
        "print(\"La diferencia entre ambos datasets es de {} países.\".format(diferencia_paises))"
      ],
      "execution_count": 15,
      "outputs": [
        {
          "output_type": "stream",
          "text": [
            "La diferencia entre ambos datasets es de 73 países.\n"
          ],
          "name": "stdout"
        }
      ]
    },
    {
      "cell_type": "markdown",
      "metadata": {
        "id": "6yPz5eGURUTL"
      },
      "source": [
        "Por lo tanto el número de países distintos en cada dataset no coincide."
      ]
    },
    {
      "cell_type": "markdown",
      "metadata": {
        "id": "vkODS2xmdPpS"
      },
      "source": [
        "### **3. Total de deuda contraida por cada pais: total amount of debt (in USD) DT.AMT.MLAT.CD**"
      ]
    },
    {
      "cell_type": "markdown",
      "metadata": {
        "id": "aAgJ1ILuxr11"
      },
      "source": [
        "\r\n",
        "Para estudiar la deuda contraida por cada país seleccionaremos las variables \"country_name\" y \"DT.AMT.MLAT.CD\" del dataset indicadores_deuda.csv, para ello utilizaremos la función `select`. "
      ]
    },
    {
      "cell_type": "code",
      "metadata": {
        "colab": {
          "base_uri": "https://localhost:8080/"
        },
        "id": "J9NSIX5TUzpb",
        "outputId": "fa9eae3d-103d-459f-855f-bdf3966166fd"
      },
      "source": [
        "\r\n",
        "# Renombramos la columna para que no nos de problemas y sea más manejable\r\n",
        "data_deuda = data_deuda.withColumnRenamed(\"DT.AMT.MLAT.CD\", \"tot_amnt_debt\")\r\n",
        "\r\n",
        "    # Seleccionamos las dos variables\r\n",
        "data_deuda.select(\"country_name\", \"tot_amnt_debt\").show(124) #124 porque son los paises distintos del dataset"
      ],
      "execution_count": 16,
      "outputs": [
        {
          "output_type": "stream",
          "text": [
            "+--------------------+--------------+\n",
            "|        country_name| tot_amnt_debt|\n",
            "+--------------------+--------------+\n",
            "|         Afghanistan|   3.9107845E7|\n",
            "|             Albania| 1.821976167E8|\n",
            "|             Algeria|           0.0|\n",
            "|              Angola| 1.246886919E8|\n",
            "|             Armenia|  9.43312071E7|\n",
            "|          Azerbaijan| 5.136236565E8|\n",
            "|          Bangladesh|1.0395646827E9|\n",
            "|             Belarus|  5.95438826E8|\n",
            "|              Belize|  2.96833265E7|\n",
            "|               Benin|  9.16316395E7|\n",
            "|              Bhutan|  1.73904205E7|\n",
            "|             Bolivia| 3.577212115E8|\n",
            "|Bosnia and Herzeg...| 2.901709465E8|\n",
            "|            Botswana| 1.256523445E8|\n",
            "|              Brazil|2.5143187416E9|\n",
            "|            Bulgaria| 2.289930198E8|\n",
            "|        Burkina Faso|  1.19510893E8|\n",
            "|             Burundi|  1.61151118E7|\n",
            "|          Cabo Verde|  3.99701249E7|\n",
            "|            Cambodia|  7.23070018E7|\n",
            "|            Cameroon| 1.520959681E8|\n",
            "|Central African R...|     2241813.8|\n",
            "|                Chad|  9.57387095E7|\n",
            "|               China|2.6157237141E9|\n",
            "|            Colombia|1.1009075536E9|\n",
            "|             Comoros|     2182053.1|\n",
            "|    Congo, Dem. Rep.|  1.43105462E8|\n",
            "|         Congo, Rep.|   1.8114469E7|\n",
            "|          Costa Rica| 2.728082607E8|\n",
            "|       Cote d'Ivoire|  8.46294065E7|\n",
            "|            Djibouti|  3.42549092E7|\n",
            "|            Dominica|  1.11303558E7|\n",
            "|  Dominican Republic| 2.547283061E8|\n",
            "|             Ecuador| 5.788947939E8|\n",
            "|    Egypt, Arab Rep.| 2.424904078E9|\n",
            "|         El Salvador| 2.989396871E8|\n",
            "|             Eritrea|  1.54824754E7|\n",
            "|            Eswatini|  1.81302188E7|\n",
            "|            Ethiopia| 1.715907227E8|\n",
            "|                Fiji|     9082442.6|\n",
            "|               Gabon|  6.24041323E7|\n",
            "|         Gambia, The|  3.32315167E7|\n",
            "|             Georgia| 1.440624015E8|\n",
            "|               Ghana| 1.302020031E8|\n",
            "|             Grenada|  1.37408888E7|\n",
            "|           Guatemala| 3.398222536E8|\n",
            "|              Guinea|  2.98196768E7|\n",
            "|       Guinea-Bissau|     6713257.2|\n",
            "|              Guyana|  3.46518065E7|\n",
            "|               Haiti|  1.00879688E7|\n",
            "|            Honduras| 1.482250487E8|\n",
            "|            IDA only|4.8840956233E9|\n",
            "|               India|4.5456099099E9|\n",
            "|           Indonesia|2.4691458247E9|\n",
            "|  Iran, Islamic Rep.|  7.83540608E7|\n",
            "|             Jamaica|  1.74427648E8|\n",
            "|              Jordan| 2.704987155E8|\n",
            "|          Kazakhstan|1.0799488897E9|\n",
            "|               Kenya| 3.913408899E8|\n",
            "|              Kosovo|  3.35901546E7|\n",
            "|     Kyrgyz Republic|  7.52780372E7|\n",
            "|             Lao PDR|  8.06841146E7|\n",
            "|Least developed c...|4.0842755242E9|\n",
            "|             Lebanon| 1.676380897E8|\n",
            "|             Lesotho|  3.24594037E7|\n",
            "|             Liberia|     7383619.4|\n",
            "|      Macedonia, FYR| 1.859528672E8|\n",
            "|          Madagascar|  6.06693673E7|\n",
            "|              Malawi|  3.56598314E7|\n",
            "|            Maldives|  1.78961435E7|\n",
            "|                Mali| 1.354722459E8|\n",
            "|          Mauritania| 1.844082202E8|\n",
            "|           Mauritius|  7.45683355E7|\n",
            "|              Mexico| 8.641818835E8|\n",
            "|             Moldova| 1.358428655E8|\n",
            "|            Mongolia|  7.59371459E7|\n",
            "|          Montenegro|  7.79480648E7|\n",
            "|             Morocco|1.3816492823E9|\n",
            "|          Mozambique|  9.12256261E7|\n",
            "|             Myanmar|  3.05698452E7|\n",
            "|               Nepal| 1.637475129E8|\n",
            "|           Nicaragua|  1.81115898E8|\n",
            "|               Niger| 1.151323645E8|\n",
            "|             Nigeria| 2.972466866E8|\n",
            "|            Pakistan|1.5786514539E9|\n",
            "|    Papua New Guinea|   7.8345326E7|\n",
            "|            Paraguay| 2.076620309E8|\n",
            "|                Peru|   5.5363409E8|\n",
            "|         Philippines| 7.390564273E8|\n",
            "|             Romania|1.7983050958E9|\n",
            "|  Russian Federation|    1.416695E8|\n",
            "|              Rwanda|  3.10903825E7|\n",
            "|               Samoa|     9987486.6|\n",
            "|Sao Tome and Prin...|     2418947.6|\n",
            "|             Senegal| 1.704379291E8|\n",
            "|              Serbia| 7.152239637E8|\n",
            "|        Sierra Leone|  2.41442628E7|\n",
            "|     Solomon Islands|     3952828.9|\n",
            "|             Somalia|  2.46832629E7|\n",
            "|        South Africa| 3.463937639E8|\n",
            "|          South Asia|7.8517399295E9|\n",
            "|           Sri Lanka| 4.497719611E8|\n",
            "|           St. Lucia|  1.50192163E7|\n",
            "|St. Vincent and t...|  2.16156007E7|\n",
            "|               Sudan| 2.171948788E8|\n",
            "|Syrian Arab Republic| 1.479035711E8|\n",
            "|          Tajikistan|   5.9062982E7|\n",
            "|            Tanzania|  1.41436637E8|\n",
            "|            Thailand|  3.90715715E7|\n",
            "|         Timor-Leste|      825000.0|\n",
            "|                Togo|  4.41988007E7|\n",
            "|               Tonga|     2791253.2|\n",
            "|             Tunisia| 9.566040001E8|\n",
            "|              Turkey| 2.932698678E9|\n",
            "|        Turkmenistan|     5831189.2|\n",
            "|              Uganda| 1.453100772E8|\n",
            "|             Ukraine|1.0724728303E9|\n",
            "|          Uzbekistan| 2.442405756E8|\n",
            "|             Vanuatu|     2593419.3|\n",
            "|       Venezuela, RB| 5.095125646E8|\n",
            "|             Vietnam| 9.476321525E8|\n",
            "|         Yemen, Rep.| 2.207431299E8|\n",
            "|              Zambia|  5.30689649E7|\n",
            "|            Zimbabwe|  2.66979051E7|\n",
            "+--------------------+--------------+\n",
            "\n"
          ],
          "name": "stdout"
        }
      ]
    },
    {
      "cell_type": "markdown",
      "metadata": {
        "id": "VQPhxMsGdPpS"
      },
      "source": [
        "### **4. Media de los indicadores de deuda (tabla uno): DT.AMT.BLAT.CD, DT.DIS.BLAT.CD, DT.INT.BLAT.CD**"
      ]
    },
    {
      "cell_type": "markdown",
      "metadata": {
        "id": "BboodCERyGcD"
      },
      "source": [
        "Primero renombramos las 3 variables de las cuales nos piden calcular su media. Para calcular esta media primero las seleccionaremos seguido de la función (avg()) de cada columna y .show para que nos lo muestre."
      ]
    },
    {
      "cell_type": "code",
      "metadata": {
        "colab": {
          "base_uri": "https://localhost:8080/"
        },
        "id": "DRPY5c7DU0Jb",
        "outputId": "34541fc0-87b6-4179-c7d7-009b8eb948de"
      },
      "source": [
        "# Renombramos las 3 variables igual que hemos hecho anteriormente para no tener problemas al nombrarlas.\r\n",
        "data_deuda = data_deuda.withColumnRenamed(\"DT.AMT.BLAT.CD\", \"PPG_AMT\") \\\r\n",
        "    .withColumnRenamed(\"DT.DIS.BLAT.CD\", \"PPG_DIS\") \\\r\n",
        "    .withColumnRenamed(\"DT.INT.BLAT.CD\", \"PPG_INT\")\r\n",
        "\r\n",
        "    # Seleccionamos las columnas y calculamos la media\r\n",
        "data_deuda.select(avg(\"PPG_AMT\"), avg(\"PPG_DIS\"), avg(\"PPG_INT\")).show()"
      ],
      "execution_count": 17,
      "outputs": [
        {
          "output_type": "stream",
          "text": [
            "+-------------------+------------------+-------------------+\n",
            "|       avg(PPG_AMT)|      avg(PPG_DIS)|       avg(PPG_INT)|\n",
            "+-------------------+------------------+-------------------+\n",
            "|7.126196346598358E8|1.22313929039823E9|1.640932856090164E8|\n",
            "+-------------------+------------------+-------------------+\n",
            "\n"
          ],
          "name": "stdout"
        }
      ]
    },
    {
      "cell_type": "markdown",
      "metadata": {
        "id": "J4y-KZO4dPpS"
      },
      "source": [
        "### **5. Los 20 paises con DT.AMT.DLXF.CD más alto**"
      ]
    },
    {
      "cell_type": "markdown",
      "metadata": {
        "id": "LCV31c7Q40Hd"
      },
      "source": [
        "Lo primero es renombrar la columna. Lo siguiente será ordenarlos de manera descendente con la función (sort(desc())) y seleccionar los 20 primeros a traves de .show(20)."
      ]
    },
    {
      "cell_type": "code",
      "metadata": {
        "colab": {
          "base_uri": "https://localhost:8080/"
        },
        "id": "E4q7Lt-1U0nV",
        "outputId": "1ca9733f-e63a-48cc-b619-5d4fda4ced91"
      },
      "source": [
        "# Renombramos la columna\r\n",
        "data_deuda = data_deuda.withColumnRenamed(\"DT.AMT.DLXF.CD\", \"rep_ext_debt\")\r\n",
        "\r\n",
        "data_deuda.select(\"country_name\", \"rep_ext_debt\").sort(desc(\"rep_ext_debt\")).show(20)"
      ],
      "execution_count": 18,
      "outputs": [
        {
          "output_type": "stream",
          "text": [
            "+--------------------+----------------+\n",
            "|        country_name|    rep_ext_debt|\n",
            "+--------------------+----------------+\n",
            "|               China|9.62186208357E10|\n",
            "|              Brazil|9.00418403041E10|\n",
            "|  Russian Federation|6.65897618335E10|\n",
            "|              Turkey|5.15550310058E10|\n",
            "|          South Asia|4.87562958982E10|\n",
            "|               India|3.19235070008E10|\n",
            "|           Indonesia|3.09161126538E10|\n",
            "|          Kazakhstan|2.74820936864E10|\n",
            "|              Mexico| 2.5218503927E10|\n",
            "|Least developed c...|2.51970292994E10|\n",
            "|            IDA only| 2.0483289208E10|\n",
            "|             Romania|1.40137833504E10|\n",
            "|            Colombia|1.19856744387E10|\n",
            "|              Angola|1.10670456281E10|\n",
            "|            Cameroon|1.04048149602E10|\n",
            "|       Venezuela, RB|  9.8786592072E9|\n",
            "|    Egypt, Arab Rep.|  9.6921141769E9|\n",
            "|             Lebanon|  9.5069196696E9|\n",
            "|        South Africa|  9.4742575519E9|\n",
            "|             Vietnam|  8.8735059092E9|\n",
            "+--------------------+----------------+\n",
            "only showing top 20 rows\n",
            "\n"
          ],
          "name": "stdout"
        }
      ]
    },
    {
      "cell_type": "markdown",
      "metadata": {
        "id": "5SfrnK3-dPpT"
      },
      "source": [
        "### **6. Pais con los datos informados todos los años.**"
      ]
    },
    {
      "cell_type": "markdown",
      "metadata": {
        "id": "AVDb8doz5gm2"
      },
      "source": [
        "Primero tenemos que saber cuantos años distintos tenemos."
      ]
    },
    {
      "cell_type": "code",
      "metadata": {
        "colab": {
          "base_uri": "https://localhost:8080/"
        },
        "id": "TmVJcFyf5CKd",
        "outputId": "a5054e2a-bcf5-40ff-8ec8-49c44a2a74fa"
      },
      "source": [
        "data_desarrollo.select(\"year\").distinct().show()"
      ],
      "execution_count": 19,
      "outputs": [
        {
          "output_type": "stream",
          "text": [
            "+-------------+\n",
            "|         year|\n",
            "+-------------+\n",
            "|2016 [YR2016]|\n",
            "|2014 [YR2014]|\n",
            "|2017 [YR2017]|\n",
            "|2015 [YR2015]|\n",
            "+-------------+\n",
            "\n"
          ],
          "name": "stdout"
        }
      ]
    },
    {
      "cell_type": "markdown",
      "metadata": {
        "id": "z1l9t_1r5ksx"
      },
      "source": [
        "Hemos visto que existen 4 años distintos. Agruparemos los paises por nombre, contaremos cuantas veces aparece y filtrar con `filter`(\"n==4\") aquellos paises que aparezcan 4 veces, es decir todos los años."
      ]
    },
    {
      "cell_type": "code",
      "metadata": {
        "colab": {
          "base_uri": "https://localhost:8080/"
        },
        "id": "_gQEPZjOXVdN",
        "outputId": "aef19a95-a802-4766-b07c-e9d817494d8a"
      },
      "source": [
        "# Aplicamos el groupBy para agrupar por países y contamos, renombramos la columna \"count\" y filtramos\r\n",
        "data_desarrollo.groupBy(\"country_name\").count() \\\r\n",
        "    .withColumnRenamed(\"count\", \"n\") \\\r\n",
        "    .filter(\"n == 4\") \\\r\n",
        "    .show()"
      ],
      "execution_count": 21,
      "outputs": [
        {
          "output_type": "stream",
          "text": [
            "+------------+---+\n",
            "|country_name|  n|\n",
            "+------------+---+\n",
            "|      Malawi|  4|\n",
            "+------------+---+\n",
            "\n"
          ],
          "name": "stdout"
        }
      ]
    },
    {
      "cell_type": "markdown",
      "metadata": {
        "id": "RXVJNJBMdPpT"
      },
      "source": [
        "### **7. Media anual de los distintos indicadores de desarrollo**"
      ]
    },
    {
      "cell_type": "markdown",
      "metadata": {
        "id": "WIjI8MLD9nN4"
      },
      "source": [
        "\r\n",
        "Si queremos calcular la media anual de los indicadores de desarrollo, deberemos agrupar por año y calcular la media de cada indicador."
      ]
    },
    {
      "cell_type": "code",
      "metadata": {
        "colab": {
          "base_uri": "https://localhost:8080/"
        },
        "id": "xrneCzMPU1rm",
        "outputId": "e7760d40-a50d-4d6b-bb14-8a642d676982"
      },
      "source": [
        "# Primer agrupamos por año, y después agregamos (agg()) las columnas con la media de cada indicador\r\n",
        "data_desarrollo.groupBy(\"year\").agg(avg(\"gob_debt_LCU\"), avg(\"gob_debt_tot\"), avg(\"birth_rate\")).show()"
      ],
      "execution_count": 24,
      "outputs": [
        {
          "output_type": "stream",
          "text": [
            "+-------------+--------------------+------------------+------------------+\n",
            "|         year|   avg(gob_debt_LCU)| avg(gob_debt_tot)|   avg(birth_rate)|\n",
            "+-------------+--------------------+------------------+------------------+\n",
            "|2016 [YR2016]|1.588138215480659...|58.796949624008356| 16.14433333333333|\n",
            "|2014 [YR2014]|1.034427587329532...|56.843914344384395|          17.58262|\n",
            "|2017 [YR2017]| 2.23985861996269E12|   48.659564238322|            34.593|\n",
            "|2015 [YR2015]|1.318244039159024...| 58.36559834488036|16.798477272727276|\n",
            "+-------------+--------------------+------------------+------------------+\n",
            "\n"
          ],
          "name": "stdout"
        }
      ]
    },
    {
      "cell_type": "markdown",
      "metadata": {
        "id": "lBXU-K47dPpU"
      },
      "source": [
        "### **8. Podrías decirme el total de deuda acumulada DT.AMT.MLAT.CD por los 10 países con un valor en media menor de SP.DYN.CBRT.IN**"
      ]
    },
    {
      "cell_type": "markdown",
      "metadata": {
        "id": "PeZkURH-9p83"
      },
      "source": [
        "\r\n",
        "Como el total de deuda acumulada (DT.AMT.MLAT.CD) y SP.DYN.CBRT.IN forman parte de distintos datasets, debemos realizar un join, la clave que utilizaremos será el \"country_code\" y realizaremos un inner join, ya que nos interesan aquellos países que tengan ambos datos."
      ]
    },
    {
      "cell_type": "code",
      "metadata": {
        "colab": {
          "base_uri": "https://localhost:8080/"
        },
        "id": "UT7OLueNU2Cf",
        "outputId": "b7ad0a06-1903-4d3f-db43-9fb178c30539"
      },
      "source": [
        "\r\n",
        "data_join = data_desarrollo.join(other=data_deuda, on=[\"country_code\", \"country_name\"], how=\"inner\")\r\n",
        "data_join.printSchema()"
      ],
      "execution_count": 25,
      "outputs": [
        {
          "output_type": "stream",
          "text": [
            "root\n",
            " |-- country_code: string (nullable = true)\n",
            " |-- country_name: string (nullable = true)\n",
            " |-- year: string (nullable = true)\n",
            " |-- gob_debt_LCU: double (nullable = true)\n",
            " |-- gob_debt_tot: double (nullable = true)\n",
            " |-- birth_rate: double (nullable = true)\n",
            " |-- PPG_AMT: double (nullable = true)\n",
            " |-- rep_ext_debt: double (nullable = true)\n",
            " |-- DT.AMT.DPNG.CD: double (nullable = true)\n",
            " |-- tot_amnt_debt: double (nullable = true)\n",
            " |-- DT.AMT.OFFT.CD: double (nullable = true)\n",
            " |-- DT.AMT.PBND.CD: double (nullable = true)\n",
            " |-- DT.AMT.PCBK.CD: double (nullable = true)\n",
            " |-- DT.AMT.PROP.CD: double (nullable = true)\n",
            " |-- DT.AMT.PRVT.CD: double (nullable = true)\n",
            " |-- PPG_DIS: double (nullable = true)\n",
            " |-- DT.DIS.DLXF.CD: double (nullable = true)\n",
            " |-- DT.DIS.MLAT.CD: double (nullable = true)\n",
            " |-- DT.DIS.OFFT.CD: double (nullable = true)\n",
            " |-- DT.DIS.PCBK.CD: double (nullable = true)\n",
            " |-- DT.DIS.PROP.CD: double (nullable = true)\n",
            " |-- DT.DIS.PRVT.CD: double (nullable = true)\n",
            " |-- PPG_INT: double (nullable = true)\n",
            " |-- DT.INT.DLXF.CD: double (nullable = true)\n",
            " |-- DT.INT.DPNG.CD: double (nullable = true)\n",
            " |-- DT.INT.MLAT.CD: double (nullable = true)\n",
            " |-- DT.INT.OFFT.CD: double (nullable = true)\n",
            " |-- DT.INT.PBND.CD: double (nullable = true)\n",
            " |-- DT.INT.PCBK.CD: double (nullable = true)\n",
            " |-- DT.INT.PROP.CD: double (nullable = true)\n",
            " |-- DT.INT.PRVT.CD: double (nullable = true)\n",
            "\n"
          ],
          "name": "stdout"
        }
      ]
    },
    {
      "cell_type": "markdown",
      "metadata": {
        "id": "kxi8PkPy9_ru"
      },
      "source": [
        "Con los dos datasets unidos, seleccionamos las columnas."
      ]
    },
    {
      "cell_type": "code",
      "metadata": {
        "colab": {
          "base_uri": "https://localhost:8080/"
        },
        "id": "nLmbVYlgXlGG",
        "outputId": "a1deefb2-0307-4dba-fe58-c32106c486c4"
      },
      "source": [
        "data_birth_debt = data_join.select(\"country_name\", \"tot_amnt_debt\", \"birth_rate\")\r\n",
        "data_birth_debt.show()"
      ],
      "execution_count": 27,
      "outputs": [
        {
          "output_type": "stream",
          "text": [
            "+------------+--------------+----------+\n",
            "|country_name| tot_amnt_debt|birth_rate|\n",
            "+------------+--------------+----------+\n",
            "|     Albania| 1.821976167E8|     12.08|\n",
            "|     Albania| 1.821976167E8|    12.197|\n",
            "|     Albania| 1.821976167E8|    12.259|\n",
            "|     Belarus|  5.95438826E8|      12.4|\n",
            "|     Belarus|  5.95438826E8|      12.5|\n",
            "|     Belarus|  5.95438826E8|      12.5|\n",
            "|      Belize|  2.96833265E7|    22.067|\n",
            "|      Bhutan|  1.73904205E7|    17.625|\n",
            "|      Bhutan|  1.73904205E7|    17.783|\n",
            "|      Bhutan|  1.73904205E7|    17.965|\n",
            "|    Botswana| 1.256523445E8|    25.943|\n",
            "|    Botswana| 1.256523445E8|     26.44|\n",
            "|    Botswana| 1.256523445E8|     26.87|\n",
            "|      Brazil|2.5143187416E9|    14.307|\n",
            "|      Brazil|2.5143187416E9|    14.472|\n",
            "|      Brazil|2.5143187416E9|    14.624|\n",
            "|    Colombia|1.1009075536E9|    15.308|\n",
            "|    Colombia|1.1009075536E9|    15.515|\n",
            "|    Colombia|1.1009075536E9|    15.725|\n",
            "| El Salvador| 2.989396871E8|    18.587|\n",
            "+------------+--------------+----------+\n",
            "only showing top 20 rows\n",
            "\n"
          ],
          "name": "stdout"
        }
      ]
    },
    {
      "cell_type": "markdown",
      "metadata": {
        "id": "R75UuVvA-IVy"
      },
      "source": [
        "Calcularemos la media de la tasa agrupando por paises, ya que como vemos en la tabla generada anteriormente los paises se repiten."
      ]
    },
    {
      "cell_type": "code",
      "metadata": {
        "colab": {
          "base_uri": "https://localhost:8080/"
        },
        "id": "gQ_cBRttXoL4",
        "outputId": "34347b4d-cfcc-46f5-9b4d-1ac9e5778f68"
      },
      "source": [
        "data_birth_debt = data_birth_debt.groupBy(\"country_name\", \"tot_amnt_debt\").agg(avg(\"birth_rate\"))\r\n",
        "data_birth_debt.show() #por defecto nos mostrara 20 rows"
      ],
      "execution_count": 28,
      "outputs": [
        {
          "output_type": "stream",
          "text": [
            "+--------------------+--------------+------------------+\n",
            "|        country_name| tot_amnt_debt|   avg(birth_rate)|\n",
            "+--------------------+--------------+------------------+\n",
            "|     Kyrgyz Republic|  7.52780372E7| 27.03333333333333|\n",
            "|         El Salvador| 2.989396871E8|18.733999999999998|\n",
            "|    Papua New Guinea|   7.8345326E7|           28.1685|\n",
            "|              Bhutan|  1.73904205E7|            17.791|\n",
            "|             Albania| 1.821976167E8|12.178666666666667|\n",
            "|             Ukraine|1.0724728303E9|              10.6|\n",
            "|              Jordan| 2.704987155E8|            24.305|\n",
            "|              Turkey| 2.932698678E9|16.717333333333332|\n",
            "|         Philippines| 7.390564273E8|            22.935|\n",
            "|           St. Lucia|  1.50192163E7|            12.502|\n",
            "|           Sri Lanka| 4.497719611E8|            16.729|\n",
            "|             Belarus|  5.95438826E8|12.466666666666667|\n",
            "|St. Vincent and t...|  2.16156007E7|            15.011|\n",
            "|     Solomon Islands|     3952828.9|33.525666666666666|\n",
            "|             Georgia| 1.440624015E8|            14.056|\n",
            "|  Russian Federation|    1.416695E8|13.166666666666666|\n",
            "|              Zambia|  5.30689649E7|           38.2975|\n",
            "|              Belize|  2.96833265E7|            22.067|\n",
            "|             Moldova| 1.358428655E8|10.604333333333335|\n",
            "|            Thailand|  3.90715715E7|           10.9175|\n",
            "+--------------------+--------------+------------------+\n",
            "only showing top 20 rows\n",
            "\n"
          ],
          "name": "stdout"
        }
      ]
    },
    {
      "cell_type": "code",
      "metadata": {
        "colab": {
          "base_uri": "https://localhost:8080/"
        },
        "id": "m3_DjOYSXrjN",
        "outputId": "83b8de65-ceb1-4606-b356-082ac915aff7"
      },
      "source": [
        "data_birth_debt = data_birth_debt.sort(\"avg(birth_rate)\").limit(10)\r\n",
        "data_birth_debt.show()"
      ],
      "execution_count": 29,
      "outputs": [
        {
          "output_type": "stream",
          "text": [
            "+--------------------+--------------+------------------+\n",
            "|        country_name| tot_amnt_debt|   avg(birth_rate)|\n",
            "+--------------------+--------------+------------------+\n",
            "|             Ukraine|1.0724728303E9|              10.6|\n",
            "|             Moldova| 1.358428655E8|10.604333333333335|\n",
            "|            Thailand|  3.90715715E7|           10.9175|\n",
            "|             Albania| 1.821976167E8|12.178666666666667|\n",
            "|             Belarus|  5.95438826E8|12.466666666666667|\n",
            "|           St. Lucia|  1.50192163E7|            12.502|\n",
            "|  Russian Federation|    1.416695E8|13.166666666666666|\n",
            "|             Georgia| 1.440624015E8|            14.056|\n",
            "|              Brazil|2.5143187416E9|14.467666666666666|\n",
            "|St. Vincent and t...|  2.16156007E7|            15.011|\n",
            "+--------------------+--------------+------------------+\n",
            "\n"
          ],
          "name": "stdout"
        }
      ]
    },
    {
      "cell_type": "markdown",
      "metadata": {
        "id": "BtV05hZN-aCu"
      },
      "source": [
        "Por último realizamos la suma."
      ]
    },
    {
      "cell_type": "code",
      "metadata": {
        "colab": {
          "base_uri": "https://localhost:8080/"
        },
        "id": "TZPJl8r3Xuv1",
        "outputId": "7d985e23-3eb6-4f4a-e6dc-9eeb2b37a799"
      },
      "source": [
        "data_birth_debt.select(sum(\"tot_amnt_debt\")).show()"
      ],
      "execution_count": 30,
      "outputs": [
        {
          "output_type": "stream",
          "text": [
            "+-------------------+\n",
            "| sum(tot_amnt_debt)|\n",
            "+-------------------+\n",
            "|4.861709170099999E9|\n",
            "+-------------------+\n",
            "\n"
          ],
          "name": "stdout"
        }
      ]
    },
    {
      "cell_type": "markdown",
      "metadata": {
        "id": "mz45bz1UdPpU"
      },
      "source": [
        "### **9. ¿Hay alguna relación entre los nacimientos y el indicador DT.AMT.DLXF.CD? ¿Cómo podrías demostrarlo?**"
      ]
    },
    {
      "cell_type": "markdown",
      "metadata": {
        "id": "wL1nlo6C_lG6"
      },
      "source": [
        "Para demostrarlo deberíamos seleccionar ambas variables y realizar un scatterplot para ver si tiene algún tipo de tendencia.Recordemos que nos nacimientos es birth_rate y el indicador DT.AMT.DLXF.CD lo hemos renombrado como rep_ext_debt_long"
      ]
    },
    {
      "cell_type": "code",
      "metadata": {
        "colab": {
          "base_uri": "https://localhost:8080/"
        },
        "id": "Nehh3H8jU2jn",
        "outputId": "70a0c6bb-2d21-4c44-de85-ec9c097c46e6"
      },
      "source": [
        "# Seleccionamos las variables descritas anteriormente, y caluclamos la media de la tasa de nacimiento\r\n",
        "data_debtlong = data_join.select(\"country_name\", \"rep_ext_debt\", \"birth_rate\") \\\r\n",
        "    .groupBy(\"country_name\", \"rep_ext_debt\").agg(avg(\"birth_rate\"))\r\n",
        "\r\n",
        "    # Mostramos el resultado\r\n",
        "data_debtlong.show()"
      ],
      "execution_count": 31,
      "outputs": [
        {
          "output_type": "stream",
          "text": [
            "+------------------+----------------+------------------+\n",
            "|      country_name|    rep_ext_debt|   avg(birth_rate)|\n",
            "+------------------+----------------+------------------+\n",
            "|         Sri Lanka|  5.7614892559E9|            16.729|\n",
            "|           Ukraine|  8.1489956256E9|              10.6|\n",
            "|Russian Federation|6.65897618335E10|13.166666666666666|\n",
            "|        Kazakhstan|2.74820936864E10| 22.77666666666667|\n",
            "|   Solomon Islands|    3.07497039E7|33.525666666666666|\n",
            "|            Brazil|9.00418403041E10|14.467666666666666|\n",
            "|   Kyrgyz Republic|   8.164190451E8| 27.03333333333333|\n",
            "|         Guatemala|  2.9119819878E9|25.628666666666664|\n",
            "|         St. Lucia|    2.03326738E7|            12.502|\n",
            "|            Bhutan|   2.132585369E8|            17.791|\n",
            "|             Tonga|    1.03699106E7|25.362333333333336|\n",
            "|            Zambia|  1.2176434719E9|           38.2975|\n",
            "|         Indonesia|3.09161126538E10|19.163999999999998|\n",
            "|           Jamaica|   5.595974314E8| 16.63566666666667|\n",
            "|            Turkey|5.15550310058E10|16.717333333333332|\n",
            "|  Papua New Guinea|  2.8421938425E9|           28.1685|\n",
            "|          Colombia|1.19856744387E10|            15.516|\n",
            "|            Malawi|    5.74223731E7|            35.556|\n",
            "|           Belarus|  4.6400378842E9|12.466666666666667|\n",
            "|          Botswana|    1.37995908E8|26.417666666666666|\n",
            "+------------------+----------------+------------------+\n",
            "only showing top 20 rows\n",
            "\n"
          ],
          "name": "stdout"
        }
      ]
    },
    {
      "cell_type": "markdown",
      "metadata": {
        "id": "X0K3HUr8_B8U"
      },
      "source": [
        "Transformamos el objeto a Pandas y lo graficamos"
      ]
    },
    {
      "cell_type": "code",
      "metadata": {
        "colab": {
          "base_uri": "https://localhost:8080/",
          "height": 280
        },
        "id": "u0BCL1uHXyEc",
        "outputId": "e622eff3-e913-48ef-a888-845ef08f9f07"
      },
      "source": [
        "\r\n",
        "import pandas as pd\r\n",
        "    \r\n",
        "    # Pasamos el dataset anterior a formato pandas para plotearlo\r\n",
        "pandas_dataset = data_debtlong.toPandas()\r\n",
        "\r\n",
        "    # Ploteamos el scatterplot\r\n",
        "pandas_dataset.plot.scatter(x=\"rep_ext_debt\", y=\"avg(birth_rate)\");"
      ],
      "execution_count": 32,
      "outputs": [
        {
          "output_type": "display_data",
          "data": {
            "image/png": "[encoded data removed]",
            "text/plain": [
              "<Figure size 432x288 with 1 Axes>"
            ]
          },
          "metadata": {
            "tags": [],
            "needs_background": "light"
          }
        }
      ]
    },
    {
      "cell_type": "markdown",
      "metadata": {
        "id": "R_JezsKb_bZD"
      },
      "source": [
        "\r\n",
        "Parece ser que no existe ninguna relación entre ambas variables, ya que casi todos los datos están concentrados en torno al 0 en cuanto a la variable rep_ext_debt_long, si es cierto que vemos algunos outiliers pero no parece que sigan ningún patrón."
      ]
    },
    {
      "cell_type": "code",
      "metadata": {
        "colab": {
          "base_uri": "https://localhost:8080/"
        },
        "id": "ZtvD8DO5_O4l",
        "outputId": "a96c2262-cada-4a91-b3ce-e5b9700e4ff5"
      },
      "source": [
        "from pyspark.ml.stat import Correlation\r\n",
        "data_debtlong.stat.corr(\"rep_ext_debt\", \"avg(birth_rate)\")"
      ],
      "execution_count": 33,
      "outputs": [
        {
          "output_type": "execute_result",
          "data": {
            "text/plain": [
              "-0.25837657467388314"
            ]
          },
          "metadata": {
            "tags": []
          },
          "execution_count": 33
        }
      ]
    },
    {
      "cell_type": "markdown",
      "metadata": {
        "id": "McTIN-Wa_R3H"
      },
      "source": [
        "No hay correlación entre ambas variables al ser el numero relativamente bajo. Además solo con la gráfica podemos ver como existe ninguna relación lineal entre las variables estudiadas."
      ]
    }
  ]
}